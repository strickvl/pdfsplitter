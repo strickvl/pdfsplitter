{
 "cells": [
  {
   "cell_type": "code",
   "execution_count": null,
   "metadata": {},
   "outputs": [],
   "source": [
    "# default_exp scraper"
   ]
  },
  {
   "cell_type": "code",
   "execution_count": null,
   "metadata": {},
   "outputs": [],
   "source": [
    "%load_ext autoreload\n",
    "%autoreload 2"
   ]
  },
  {
   "cell_type": "markdown",
   "metadata": {},
   "source": [
    "# scraper\n",
    "\n",
    "> Download all the PDF files from a particular web page."
   ]
  },
  {
   "cell_type": "code",
   "execution_count": null,
   "metadata": {},
   "outputs": [],
   "source": [
    "#hide\n",
    "from nbdev.showdoc import *"
   ]
  },
  {
   "cell_type": "code",
   "execution_count": null,
   "metadata": {},
   "outputs": [],
   "source": [
    "#export\n",
    "import json\n",
    "import os\n",
    "import datetime\n",
    "from pathlib import Path\n",
    "from typing import Any\n",
    "\n",
    "import pandas as pd\n",
    "import numpy as np\n",
    "import fitz\n",
    "\n",
    "from rich import print\n",
    "from rich.console import Console\n",
    "from rich.table import Table"
   ]
  },
  {
   "cell_type": "code",
   "execution_count": null,
   "metadata": {},
   "outputs": [],
   "source": [
    "%load_ext rich"
   ]
  },
  {
   "cell_type": "markdown",
   "metadata": {},
   "source": [
    "- get all the links from a list of pages\n",
    "- download all the PDF files from a list to a specific directory"
   ]
  },
  {
   "cell_type": "code",
   "execution_count": null,
   "metadata": {},
   "outputs": [],
   "source": [
    "import os\n",
    "import requests\n",
    "import re\n",
    "from urllib.parse import urlparse\n",
    "\n",
    "from bs4 import BeautifulSoup"
   ]
  },
  {
   "cell_type": "code",
   "execution_count": null,
   "metadata": {},
   "outputs": [],
   "source": [
    "#export\n",
    "def add_scheme_and_domain(partial_url, main_source):\n",
    "    \"\"\"\n",
    "    Given a partial url and a domain, return a full url.\n",
    "    \"\"\"\n",
    "    scheme = urlparse(main_source).scheme\n",
    "    hostname = urlparse(main_source).netloc\n",
    "    base_url = scheme + \"://\" + hostname\n",
    "\n",
    "    if partial_url[0] == \"/\":\n",
    "        return base_url + partial_url\n",
    "    else:\n",
    "        return partial_url"
   ]
  },
  {
   "cell_type": "code",
   "execution_count": null,
   "metadata": {},
   "outputs": [],
   "source": [
    "#export\n",
    "def get_pdf_links(url):\n",
    "    \"\"\"\n",
    "    Given a url, return a list of all pdf links on the page.\n",
    "    \"\"\"\n",
    "    # Get the html of the page\n",
    "    r = requests.get(url)\n",
    "    soup = BeautifulSoup(r.text, \"html.parser\")\n",
    "    # Find all the links on the page\n",
    "    links = soup.find_all(\"a\")\n",
    "    # Find all the pdf links\n",
    "    pdf_links = []\n",
    "    for link in links:\n",
    "        if link.get(\"href\") is not None:\n",
    "            if re.search(\".pdf$\", link.get(\"href\")):\n",
    "                pdf_links.append(add_scheme_and_domain(link.get(\"href\"), url))\n",
    "    return pdf_links"
   ]
  },
  {
   "cell_type": "code",
   "execution_count": null,
   "metadata": {},
   "outputs": [],
   "source": [
    "#export\n",
    "def download_pdf_files(pdf_links, destination=\".\"):\n",
    "    \"\"\"\n",
    "    Given a list of pdf links, download all the pdfs.\n",
    "    \"\"\"\n",
    "    # create the destimation directory if it doesn't exist\n",
    "    if not os.path.exists(destination):\n",
    "        os.makedirs(destination)\n",
    "    for link in pdf_links:\n",
    "        r = requests.get(link)\n",
    "        with open(destination + \"/\" + link.split(\"/\")[-1], \"wb\") as f:\n",
    "            f.write(r.content)"
   ]
  },
  {
   "cell_type": "markdown",
   "metadata": {},
   "source": [
    "If you wish to download the PDF files from a particular webpage, use the following pattern:\n",
    "\n",
    "```python\n",
    "download_pdf_files(\n",
    "    get_pdf_links(\"https://open.defense.gov/Transparency/FOIA.aspx\"), \"./test\"\n",
    ")\n",
    "```"
   ]
  },
  {
   "cell_type": "code",
   "execution_count": null,
   "metadata": {},
   "outputs": [],
   "source": []
  }
 ],
 "metadata": {
  "kernelspec": {
   "display_name": "Python 3 (ipykernel)",
   "language": "python",
   "name": "python3"
  }
 },
 "nbformat": 4,
 "nbformat_minor": 2
}
