{
 "cells": [
  {
   "cell_type": "code",
   "execution_count": null,
   "metadata": {},
   "outputs": [],
   "source": [
    "#hide\n",
    "from pathlib import Path\n",
    "from pdfsplitter.core import *\n",
    "from pdfsplitter.scraper import *\n",
    "from pdfsplitter.stats import *"
   ]
  },
  {
   "cell_type": "markdown",
   "metadata": {},
   "source": [
    "# pdfsplitter\n",
    "\n",
    "> A simple way to extract and parse images for machine learning workflows."
   ]
  },
  {
   "cell_type": "markdown",
   "metadata": {},
   "source": [
    "This file will become your README and also the index of your documentation."
   ]
  },
  {
   "cell_type": "code",
   "execution_count": null,
   "metadata": {},
   "outputs": [],
   "source": [
    "#hide\n",
    "%load_ext autoreload\n",
    "%autoreload 2"
   ]
  },
  {
   "cell_type": "markdown",
   "metadata": {},
   "source": [
    "## Install"
   ]
  },
  {
   "cell_type": "markdown",
   "metadata": {},
   "source": [
    "`pip install --upgrade pdfsplitter`"
   ]
  },
  {
   "cell_type": "markdown",
   "metadata": {},
   "source": [
    "## How to use"
   ]
  },
  {
   "cell_type": "markdown",
   "metadata": {},
   "source": [
    "The highest-level function for exporting image files from a series of images is `extract_images_from_pdfs`, which will take all the PDF files inside a source directory and extract the images to a destination directory. You have the added option of specifying which sort of image filetype you'd like for the exported images, as in this example:"
   ]
  },
  {
   "cell_type": "code",
   "execution_count": null,
   "metadata": {},
   "outputs": [],
   "source": [
    "source = Path(\"./tryout/\")\n",
    "destination = Path(\"./tryout/processed\")\n",
    "\n",
    "# download all the PDFs listed on a particular list of URLs\n",
    "download_pdf_files(\n",
    "    get_pdf_links(\"https://open.defense.gov/Transparency/FOIA.aspx\"), \"./tryout\"\n",
    ")\n",
    "\n",
    "# extracts all the images from the downloaded PDFs and saves them to a directory\n",
    "extract_images_from_pdfs(source, destination, \"jpg\")"
   ]
  },
  {
   "cell_type": "code",
   "execution_count": null,
   "metadata": {},
   "outputs": [
    {
     "data": {
      "text/html": [
       "<pre style=\"white-space:pre;overflow-x:auto;line-height:normal;font-family:Menlo,'DejaVu Sans Mono',consolas,'Courier New',monospace\"><span style=\"font-style: italic\">                                  Stats for your PDF Files                                   </span>\n",
       "┏━━━━━━━━━━┳━━━━━━━━━━━━━━━━━━━━━━━━━━━━━━━━━━━━━━━━━━━━━━━┳━━━━━━━━━━┳━━━━━━━━━━┳━━━━━━━━━━┓\n",
       "┃<span style=\"font-weight: bold\"> PageCou… </span>┃<span style=\"font-weight: bold\"> Filename                                      </span>┃<span style=\"font-weight: bold\"> ocr_lay… </span>┃<span style=\"font-weight: bold\"> pdf_fil… </span>┃<span style=\"font-weight: bold\"> author   </span>┃\n",
       "┡━━━━━━━━━━╇━━━━━━━━━━━━━━━━━━━━━━━━━━━━━━━━━━━━━━━━━━━━━━━╇━━━━━━━━━━╇━━━━━━━━━━╇━━━━━━━━━━┩\n",
       "│<span style=\"color: #008000; text-decoration-color: #008000\">       27 </span>│<span style=\"color: #008080; text-decoration-color: #008080\"> 2014_ACFO_Report_FINAL_REPORT.pdf             </span>│<span style=\"color: #000080; text-decoration-color: #000080\"> False    </span>│<span style=\"color: #af00ff; text-decoration-color: #af00ff\"> 236655   </span>│<span style=\"color: #000000; text-decoration-color: #000000\"> Stephan… </span>│\n",
       "│          │                                               │          │          │<span style=\"color: #000000; text-decoration-color: #000000\"> Carr     </span>│\n",
       "│<span style=\"color: #008000; text-decoration-color: #008000\">        3 </span>│<span style=\"color: #008080; text-decoration-color: #008080\"> 7-26-2013_Determination.pdf                   </span>│<span style=\"color: #000080; text-decoration-color: #000080\"> False    </span>│<span style=\"color: #af00ff; text-decoration-color: #af00ff\"> 214683   </span>│<span style=\"color: #000000; text-decoration-color: #000000\">          </span>│\n",
       "│<span style=\"color: #008000; text-decoration-color: #008000\">        2 </span>│<span style=\"color: #008080; text-decoration-color: #008080\"> DA Determination-DCRIT Hawaii Water Wells.pdf </span>│<span style=\"color: #000080; text-decoration-color: #000080\"> False    </span>│<span style=\"color: #af00ff; text-decoration-color: #af00ff\"> 115574   </span>│<span style=\"color: #000000; text-decoration-color: #000000\">          </span>│\n",
       "│<span style=\"color: #008000; text-decoration-color: #008000\">        3 </span>│<span style=\"color: #008080; text-decoration-color: #008080\"> 12-18-14_Determination.pdf                    </span>│<span style=\"color: #000080; text-decoration-color: #000080\"> False    </span>│<span style=\"color: #af00ff; text-decoration-color: #af00ff\"> 50925    </span>│<span style=\"color: #000000; text-decoration-color: #000000\">          </span>│\n",
       "│<span style=\"color: #008000; text-decoration-color: #008000\">        4 </span>│<span style=\"color: #008080; text-decoration-color: #008080\"> 6-1-2012_Determination.pdf                    </span>│<span style=\"color: #000080; text-decoration-color: #000080\"> False    </span>│<span style=\"color: #af00ff; text-decoration-color: #af00ff\"> 463902   </span>│<span style=\"color: #000000; text-decoration-color: #000000\">          </span>│\n",
       "│<span style=\"color: #008000; text-decoration-color: #008000\">        2 </span>│<span style=\"color: #008080; text-decoration-color: #008080\"> 8-19-2021_Determination.pdf                   </span>│<span style=\"color: #000080; text-decoration-color: #000080\"> False    </span>│<span style=\"color: #af00ff; text-decoration-color: #af00ff\"> 350438   </span>│<span style=\"color: #000000; text-decoration-color: #000000\">          </span>│\n",
       "│<span style=\"color: #008000; text-decoration-color: #008000\">       15 </span>│<span style=\"color: #008080; text-decoration-color: #008080\"> 2012_ACFO_Report_FINAL_REPORT.pdf             </span>│<span style=\"color: #000080; text-decoration-color: #000080\"> False    </span>│<span style=\"color: #af00ff; text-decoration-color: #af00ff\"> 242305   </span>│<span style=\"color: #000000; text-decoration-color: #000000\"> CarrS    </span>│\n",
       "│<span style=\"color: #008000; text-decoration-color: #008000\">        3 </span>│<span style=\"color: #008080; text-decoration-color: #008080\"> 2-12-2014_Determination.pdf                   </span>│<span style=\"color: #000080; text-decoration-color: #000080\"> False    </span>│<span style=\"color: #af00ff; text-decoration-color: #af00ff\"> 23823    </span>│<span style=\"color: #000000; text-decoration-color: #000000\"> timothy… </span>│\n",
       "│<span style=\"color: #008000; text-decoration-color: #008000\">        2 </span>│<span style=\"color: #008080; text-decoration-color: #008080\"> DA%20Determination%20DoD%20Flights.pdf        </span>│<span style=\"color: #000080; text-decoration-color: #000080\"> False    </span>│<span style=\"color: #af00ff; text-decoration-color: #af00ff\"> 111521   </span>│<span style=\"color: #000000; text-decoration-color: #000000\">          </span>│\n",
       "│<span style=\"color: #008000; text-decoration-color: #008000\">       22 </span>│<span style=\"color: #008080; text-decoration-color: #008080\"> 2013_ACFO_Report_FINAL_REPORT.pdf             </span>│<span style=\"color: #000080; text-decoration-color: #000080\"> False    </span>│<span style=\"color: #af00ff; text-decoration-color: #af00ff\"> 258462   </span>│<span style=\"color: #000000; text-decoration-color: #000000\"> CarrS    </span>│\n",
       "│<span style=\"color: #008000; text-decoration-color: #008000\">        2 </span>│<span style=\"color: #008080; text-decoration-color: #008080\"> 2-15-2018_Determination.pdf                   </span>│<span style=\"color: #000080; text-decoration-color: #000080\"> False    </span>│<span style=\"color: #af00ff; text-decoration-color: #af00ff\"> 342195   </span>│<span style=\"color: #000000; text-decoration-color: #000000\">          </span>│\n",
       "│<span style=\"color: #008000; text-decoration-color: #008000\">       49 </span>│<span style=\"color: #008080; text-decoration-color: #008080\"> DoDFY2020AnnualFOIA_Report.pdf                </span>│<span style=\"color: #000080; text-decoration-color: #000080\"> False    </span>│<span style=\"color: #af00ff; text-decoration-color: #af00ff\"> 1247446  </span>│<span style=\"color: #000000; text-decoration-color: #000000\">          </span>│\n",
       "│<span style=\"color: #008000; text-decoration-color: #008000\">        3 </span>│<span style=\"color: #008080; text-decoration-color: #008080\"> 7-5-2019_Determination.pdf                    </span>│<span style=\"color: #000080; text-decoration-color: #000080\"> False    </span>│<span style=\"color: #af00ff; text-decoration-color: #af00ff\"> 204453   </span>│<span style=\"color: #000000; text-decoration-color: #000000\">          </span>│\n",
       "│<span style=\"color: #008000; text-decoration-color: #008000\">       30 </span>│<span style=\"color: #008080; text-decoration-color: #008080\"> 2017_DoD_Chief_FOIA_Officer_Report.pdf        </span>│<span style=\"color: #000080; text-decoration-color: #000080\"> False    </span>│<span style=\"color: #af00ff; text-decoration-color: #af00ff\"> 4810077  </span>│<span style=\"color: #000000; text-decoration-color: #000000\">          </span>│\n",
       "│<span style=\"color: #008000; text-decoration-color: #008000\">       28 </span>│<span style=\"color: #008080; text-decoration-color: #008080\"> 2021_DoD_Chief_FOIA_Officer_Report.pdf        </span>│<span style=\"color: #000080; text-decoration-color: #000080\"> False    </span>│<span style=\"color: #af00ff; text-decoration-color: #af00ff\"> 1131474  </span>│<span style=\"color: #000000; text-decoration-color: #000000\">          </span>│\n",
       "│<span style=\"color: #008000; text-decoration-color: #008000\">       10 </span>│<span style=\"color: #008080; text-decoration-color: #008080\"> 2011_DoD_Chief_FOIA_OfficerReport.pdf         </span>│<span style=\"color: #000080; text-decoration-color: #000080\"> False    </span>│<span style=\"color: #af00ff; text-decoration-color: #af00ff\"> 113387   </span>│<span style=\"color: #000000; text-decoration-color: #000000\"> CarrS    </span>│\n",
       "│<span style=\"color: #008000; text-decoration-color: #008000\">       27 </span>│<span style=\"color: #008080; text-decoration-color: #008080\"> 2018_DoD_Chief_FOIA_Officer_Report.pdf        </span>│<span style=\"color: #000080; text-decoration-color: #000080\"> False    </span>│<span style=\"color: #af00ff; text-decoration-color: #af00ff\"> 788227   </span>│<span style=\"color: #000000; text-decoration-color: #000000\"> brandoct </span>│\n",
       "│<span style=\"color: #008000; text-decoration-color: #008000\">        2 </span>│<span style=\"color: #008080; text-decoration-color: #008080\"> 8-3-15_Determination.pdf                      </span>│<span style=\"color: #000080; text-decoration-color: #000080\"> False    </span>│<span style=\"color: #af00ff; text-decoration-color: #af00ff\"> 105563   </span>│<span style=\"color: #000000; text-decoration-color: #000000\">          </span>│\n",
       "│<span style=\"color: #008000; text-decoration-color: #008000\">        3 </span>│<span style=\"color: #008080; text-decoration-color: #008080\"> 1-21-2016_Determination.pdf                   </span>│<span style=\"color: #000080; text-decoration-color: #000080\"> False    </span>│<span style=\"color: #af00ff; text-decoration-color: #af00ff\"> 122706   </span>│<span style=\"color: #000000; text-decoration-color: #000000\">          </span>│\n",
       "│<span style=\"color: #008000; text-decoration-color: #008000\">        2 </span>│<span style=\"color: #008080; text-decoration-color: #008080\"> 12-6-2017_Determination.pdf                   </span>│<span style=\"color: #000080; text-decoration-color: #000080\"> False    </span>│<span style=\"color: #af00ff; text-decoration-color: #af00ff\"> 189563   </span>│<span style=\"color: #000000; text-decoration-color: #000000\"> deleonv  </span>│\n",
       "│<span style=\"color: #008000; text-decoration-color: #008000\">        2 </span>│<span style=\"color: #008080; text-decoration-color: #008080\"> 12-18-2018_Determination.pdf                  </span>│<span style=\"color: #000080; text-decoration-color: #000080\"> False    </span>│<span style=\"color: #af00ff; text-decoration-color: #af00ff\"> 153675   </span>│<span style=\"color: #000000; text-decoration-color: #000000\">          </span>│\n",
       "│<span style=\"color: #008000; text-decoration-color: #008000\">       30 </span>│<span style=\"color: #008080; text-decoration-color: #008080\"> 2016_ACFO_Report_FINAL_REPORT.pdf             </span>│<span style=\"color: #000080; text-decoration-color: #000080\"> False    </span>│<span style=\"color: #af00ff; text-decoration-color: #af00ff\"> 1108008  </span>│<span style=\"color: #000000; text-decoration-color: #000000\">          </span>│\n",
       "│<span style=\"color: #008000; text-decoration-color: #008000\">        2 </span>│<span style=\"color: #008080; text-decoration-color: #008080\"> 11-29-2017_Determination.pdf                  </span>│<span style=\"color: #000080; text-decoration-color: #000080\"> False    </span>│<span style=\"color: #af00ff; text-decoration-color: #af00ff\"> 369290   </span>│<span style=\"color: #000000; text-decoration-color: #000000\">          </span>│\n",
       "│<span style=\"color: #008000; text-decoration-color: #008000\">        2 </span>│<span style=\"color: #008080; text-decoration-color: #008080\"> DoD SAP IT DCRIT Determination.pdf            </span>│<span style=\"color: #000080; text-decoration-color: #000080\"> False    </span>│<span style=\"color: #af00ff; text-decoration-color: #af00ff\"> 127858   </span>│<span style=\"color: #000000; text-decoration-color: #000000\">          </span>│\n",
       "│<span style=\"color: #008000; text-decoration-color: #008000\">        3 </span>│<span style=\"color: #008080; text-decoration-color: #008080\"> 10-19-2018_Determination.pdf                  </span>│<span style=\"color: #000080; text-decoration-color: #000080\"> False    </span>│<span style=\"color: #af00ff; text-decoration-color: #af00ff\"> 70088    </span>│<span style=\"color: #000000; text-decoration-color: #000000\"> JAMES    </span>│\n",
       "│          │                                               │          │          │<span style=\"color: #000000; text-decoration-color: #000000\"> HOGAN    </span>│\n",
       "│<span style=\"color: #008000; text-decoration-color: #008000\">       30 </span>│<span style=\"color: #008080; text-decoration-color: #008080\"> 2015_ACFO_Report_FINAL_REPORT.pdf             </span>│<span style=\"color: #000080; text-decoration-color: #000080\"> False    </span>│<span style=\"color: #af00ff; text-decoration-color: #af00ff\"> 287445   </span>│<span style=\"color: #000000; text-decoration-color: #000000\"> Stephan… </span>│\n",
       "│          │                                               │          │          │<span style=\"color: #000000; text-decoration-color: #000000\"> Carr     </span>│\n",
       "│<span style=\"color: #008000; text-decoration-color: #008000\">        3 </span>│<span style=\"color: #008080; text-decoration-color: #008080\"> 7-31-2020_Determination.pdf                   </span>│<span style=\"color: #000080; text-decoration-color: #000080\"> False    </span>│<span style=\"color: #af00ff; text-decoration-color: #af00ff\"> 88447    </span>│<span style=\"color: #000000; text-decoration-color: #000000\"> Dziecic… </span>│\n",
       "│          │                                               │          │          │<span style=\"color: #000000; text-decoration-color: #000000\"> Gerald J </span>│\n",
       "│          │                                               │          │          │<span style=\"color: #000000; text-decoration-color: #000000\"> Jr CIV   </span>│\n",
       "│          │                                               │          │          │<span style=\"color: #000000; text-decoration-color: #000000\"> OSD OGC  </span>│\n",
       "│          │                                               │          │          │<span style=\"color: #000000; text-decoration-color: #000000\"> (USA)    </span>│\n",
       "└──────────┴───────────────────────────────────────────────┴──────────┴──────────┴──────────┘\n",
       "</pre>\n"
      ],
      "text/plain": [
       "\u001b[3m                                  Stats for your PDF Files                                   \u001b[0m\n",
       "┏━━━━━━━━━━┳━━━━━━━━━━━━━━━━━━━━━━━━━━━━━━━━━━━━━━━━━━━━━━━┳━━━━━━━━━━┳━━━━━━━━━━┳━━━━━━━━━━┓\n",
       "┃\u001b[1m \u001b[0m\u001b[1mPageCou…\u001b[0m\u001b[1m \u001b[0m┃\u001b[1m \u001b[0m\u001b[1mFilename                                     \u001b[0m\u001b[1m \u001b[0m┃\u001b[1m \u001b[0m\u001b[1mocr_lay…\u001b[0m\u001b[1m \u001b[0m┃\u001b[1m \u001b[0m\u001b[1mpdf_fil…\u001b[0m\u001b[1m \u001b[0m┃\u001b[1m \u001b[0m\u001b[1mauthor  \u001b[0m\u001b[1m \u001b[0m┃\n",
       "┡━━━━━━━━━━╇━━━━━━━━━━━━━━━━━━━━━━━━━━━━━━━━━━━━━━━━━━━━━━━╇━━━━━━━━━━╇━━━━━━━━━━╇━━━━━━━━━━┩\n",
       "│\u001b[32m \u001b[0m\u001b[32m      27\u001b[0m\u001b[32m \u001b[0m│\u001b[36m \u001b[0m\u001b[36m2014_ACFO_Report_FINAL_REPORT.pdf            \u001b[0m\u001b[36m \u001b[0m│\u001b[34m \u001b[0m\u001b[34mFalse   \u001b[0m\u001b[34m \u001b[0m│\u001b[38;5;129m \u001b[0m\u001b[38;5;129m236655  \u001b[0m\u001b[38;5;129m \u001b[0m│\u001b[30m \u001b[0m\u001b[30mStephan…\u001b[0m\u001b[30m \u001b[0m│\n",
       "│          │                                               │          │          │\u001b[30m \u001b[0m\u001b[30mCarr    \u001b[0m\u001b[30m \u001b[0m│\n",
       "│\u001b[32m \u001b[0m\u001b[32m       3\u001b[0m\u001b[32m \u001b[0m│\u001b[36m \u001b[0m\u001b[36m7-26-2013_Determination.pdf                  \u001b[0m\u001b[36m \u001b[0m│\u001b[34m \u001b[0m\u001b[34mFalse   \u001b[0m\u001b[34m \u001b[0m│\u001b[38;5;129m \u001b[0m\u001b[38;5;129m214683  \u001b[0m\u001b[38;5;129m \u001b[0m│\u001b[30m \u001b[0m\u001b[30m        \u001b[0m\u001b[30m \u001b[0m│\n",
       "│\u001b[32m \u001b[0m\u001b[32m       2\u001b[0m\u001b[32m \u001b[0m│\u001b[36m \u001b[0m\u001b[36mDA Determination-DCRIT Hawaii Water Wells.pdf\u001b[0m\u001b[36m \u001b[0m│\u001b[34m \u001b[0m\u001b[34mFalse   \u001b[0m\u001b[34m \u001b[0m│\u001b[38;5;129m \u001b[0m\u001b[38;5;129m115574  \u001b[0m\u001b[38;5;129m \u001b[0m│\u001b[30m \u001b[0m\u001b[30m        \u001b[0m\u001b[30m \u001b[0m│\n",
       "│\u001b[32m \u001b[0m\u001b[32m       3\u001b[0m\u001b[32m \u001b[0m│\u001b[36m \u001b[0m\u001b[36m12-18-14_Determination.pdf                   \u001b[0m\u001b[36m \u001b[0m│\u001b[34m \u001b[0m\u001b[34mFalse   \u001b[0m\u001b[34m \u001b[0m│\u001b[38;5;129m \u001b[0m\u001b[38;5;129m50925   \u001b[0m\u001b[38;5;129m \u001b[0m│\u001b[30m \u001b[0m\u001b[30m        \u001b[0m\u001b[30m \u001b[0m│\n",
       "│\u001b[32m \u001b[0m\u001b[32m       4\u001b[0m\u001b[32m \u001b[0m│\u001b[36m \u001b[0m\u001b[36m6-1-2012_Determination.pdf                   \u001b[0m\u001b[36m \u001b[0m│\u001b[34m \u001b[0m\u001b[34mFalse   \u001b[0m\u001b[34m \u001b[0m│\u001b[38;5;129m \u001b[0m\u001b[38;5;129m463902  \u001b[0m\u001b[38;5;129m \u001b[0m│\u001b[30m \u001b[0m\u001b[30m        \u001b[0m\u001b[30m \u001b[0m│\n",
       "│\u001b[32m \u001b[0m\u001b[32m       2\u001b[0m\u001b[32m \u001b[0m│\u001b[36m \u001b[0m\u001b[36m8-19-2021_Determination.pdf                  \u001b[0m\u001b[36m \u001b[0m│\u001b[34m \u001b[0m\u001b[34mFalse   \u001b[0m\u001b[34m \u001b[0m│\u001b[38;5;129m \u001b[0m\u001b[38;5;129m350438  \u001b[0m\u001b[38;5;129m \u001b[0m│\u001b[30m \u001b[0m\u001b[30m        \u001b[0m\u001b[30m \u001b[0m│\n",
       "│\u001b[32m \u001b[0m\u001b[32m      15\u001b[0m\u001b[32m \u001b[0m│\u001b[36m \u001b[0m\u001b[36m2012_ACFO_Report_FINAL_REPORT.pdf            \u001b[0m\u001b[36m \u001b[0m│\u001b[34m \u001b[0m\u001b[34mFalse   \u001b[0m\u001b[34m \u001b[0m│\u001b[38;5;129m \u001b[0m\u001b[38;5;129m242305  \u001b[0m\u001b[38;5;129m \u001b[0m│\u001b[30m \u001b[0m\u001b[30mCarrS   \u001b[0m\u001b[30m \u001b[0m│\n",
       "│\u001b[32m \u001b[0m\u001b[32m       3\u001b[0m\u001b[32m \u001b[0m│\u001b[36m \u001b[0m\u001b[36m2-12-2014_Determination.pdf                  \u001b[0m\u001b[36m \u001b[0m│\u001b[34m \u001b[0m\u001b[34mFalse   \u001b[0m\u001b[34m \u001b[0m│\u001b[38;5;129m \u001b[0m\u001b[38;5;129m23823   \u001b[0m\u001b[38;5;129m \u001b[0m│\u001b[30m \u001b[0m\u001b[30mtimothy…\u001b[0m\u001b[30m \u001b[0m│\n",
       "│\u001b[32m \u001b[0m\u001b[32m       2\u001b[0m\u001b[32m \u001b[0m│\u001b[36m \u001b[0m\u001b[36mDA%20Determination%20DoD%20Flights.pdf       \u001b[0m\u001b[36m \u001b[0m│\u001b[34m \u001b[0m\u001b[34mFalse   \u001b[0m\u001b[34m \u001b[0m│\u001b[38;5;129m \u001b[0m\u001b[38;5;129m111521  \u001b[0m\u001b[38;5;129m \u001b[0m│\u001b[30m \u001b[0m\u001b[30m        \u001b[0m\u001b[30m \u001b[0m│\n",
       "│\u001b[32m \u001b[0m\u001b[32m      22\u001b[0m\u001b[32m \u001b[0m│\u001b[36m \u001b[0m\u001b[36m2013_ACFO_Report_FINAL_REPORT.pdf            \u001b[0m\u001b[36m \u001b[0m│\u001b[34m \u001b[0m\u001b[34mFalse   \u001b[0m\u001b[34m \u001b[0m│\u001b[38;5;129m \u001b[0m\u001b[38;5;129m258462  \u001b[0m\u001b[38;5;129m \u001b[0m│\u001b[30m \u001b[0m\u001b[30mCarrS   \u001b[0m\u001b[30m \u001b[0m│\n",
       "│\u001b[32m \u001b[0m\u001b[32m       2\u001b[0m\u001b[32m \u001b[0m│\u001b[36m \u001b[0m\u001b[36m2-15-2018_Determination.pdf                  \u001b[0m\u001b[36m \u001b[0m│\u001b[34m \u001b[0m\u001b[34mFalse   \u001b[0m\u001b[34m \u001b[0m│\u001b[38;5;129m \u001b[0m\u001b[38;5;129m342195  \u001b[0m\u001b[38;5;129m \u001b[0m│\u001b[30m \u001b[0m\u001b[30m        \u001b[0m\u001b[30m \u001b[0m│\n",
       "│\u001b[32m \u001b[0m\u001b[32m      49\u001b[0m\u001b[32m \u001b[0m│\u001b[36m \u001b[0m\u001b[36mDoDFY2020AnnualFOIA_Report.pdf               \u001b[0m\u001b[36m \u001b[0m│\u001b[34m \u001b[0m\u001b[34mFalse   \u001b[0m\u001b[34m \u001b[0m│\u001b[38;5;129m \u001b[0m\u001b[38;5;129m1247446 \u001b[0m\u001b[38;5;129m \u001b[0m│\u001b[30m \u001b[0m\u001b[30m        \u001b[0m\u001b[30m \u001b[0m│\n",
       "│\u001b[32m \u001b[0m\u001b[32m       3\u001b[0m\u001b[32m \u001b[0m│\u001b[36m \u001b[0m\u001b[36m7-5-2019_Determination.pdf                   \u001b[0m\u001b[36m \u001b[0m│\u001b[34m \u001b[0m\u001b[34mFalse   \u001b[0m\u001b[34m \u001b[0m│\u001b[38;5;129m \u001b[0m\u001b[38;5;129m204453  \u001b[0m\u001b[38;5;129m \u001b[0m│\u001b[30m \u001b[0m\u001b[30m        \u001b[0m\u001b[30m \u001b[0m│\n",
       "│\u001b[32m \u001b[0m\u001b[32m      30\u001b[0m\u001b[32m \u001b[0m│\u001b[36m \u001b[0m\u001b[36m2017_DoD_Chief_FOIA_Officer_Report.pdf       \u001b[0m\u001b[36m \u001b[0m│\u001b[34m \u001b[0m\u001b[34mFalse   \u001b[0m\u001b[34m \u001b[0m│\u001b[38;5;129m \u001b[0m\u001b[38;5;129m4810077 \u001b[0m\u001b[38;5;129m \u001b[0m│\u001b[30m \u001b[0m\u001b[30m        \u001b[0m\u001b[30m \u001b[0m│\n",
       "│\u001b[32m \u001b[0m\u001b[32m      28\u001b[0m\u001b[32m \u001b[0m│\u001b[36m \u001b[0m\u001b[36m2021_DoD_Chief_FOIA_Officer_Report.pdf       \u001b[0m\u001b[36m \u001b[0m│\u001b[34m \u001b[0m\u001b[34mFalse   \u001b[0m\u001b[34m \u001b[0m│\u001b[38;5;129m \u001b[0m\u001b[38;5;129m1131474 \u001b[0m\u001b[38;5;129m \u001b[0m│\u001b[30m \u001b[0m\u001b[30m        \u001b[0m\u001b[30m \u001b[0m│\n",
       "│\u001b[32m \u001b[0m\u001b[32m      10\u001b[0m\u001b[32m \u001b[0m│\u001b[36m \u001b[0m\u001b[36m2011_DoD_Chief_FOIA_OfficerReport.pdf        \u001b[0m\u001b[36m \u001b[0m│\u001b[34m \u001b[0m\u001b[34mFalse   \u001b[0m\u001b[34m \u001b[0m│\u001b[38;5;129m \u001b[0m\u001b[38;5;129m113387  \u001b[0m\u001b[38;5;129m \u001b[0m│\u001b[30m \u001b[0m\u001b[30mCarrS   \u001b[0m\u001b[30m \u001b[0m│\n",
       "│\u001b[32m \u001b[0m\u001b[32m      27\u001b[0m\u001b[32m \u001b[0m│\u001b[36m \u001b[0m\u001b[36m2018_DoD_Chief_FOIA_Officer_Report.pdf       \u001b[0m\u001b[36m \u001b[0m│\u001b[34m \u001b[0m\u001b[34mFalse   \u001b[0m\u001b[34m \u001b[0m│\u001b[38;5;129m \u001b[0m\u001b[38;5;129m788227  \u001b[0m\u001b[38;5;129m \u001b[0m│\u001b[30m \u001b[0m\u001b[30mbrandoct\u001b[0m\u001b[30m \u001b[0m│\n",
       "│\u001b[32m \u001b[0m\u001b[32m       2\u001b[0m\u001b[32m \u001b[0m│\u001b[36m \u001b[0m\u001b[36m8-3-15_Determination.pdf                     \u001b[0m\u001b[36m \u001b[0m│\u001b[34m \u001b[0m\u001b[34mFalse   \u001b[0m\u001b[34m \u001b[0m│\u001b[38;5;129m \u001b[0m\u001b[38;5;129m105563  \u001b[0m\u001b[38;5;129m \u001b[0m│\u001b[30m \u001b[0m\u001b[30m        \u001b[0m\u001b[30m \u001b[0m│\n",
       "│\u001b[32m \u001b[0m\u001b[32m       3\u001b[0m\u001b[32m \u001b[0m│\u001b[36m \u001b[0m\u001b[36m1-21-2016_Determination.pdf                  \u001b[0m\u001b[36m \u001b[0m│\u001b[34m \u001b[0m\u001b[34mFalse   \u001b[0m\u001b[34m \u001b[0m│\u001b[38;5;129m \u001b[0m\u001b[38;5;129m122706  \u001b[0m\u001b[38;5;129m \u001b[0m│\u001b[30m \u001b[0m\u001b[30m        \u001b[0m\u001b[30m \u001b[0m│\n",
       "│\u001b[32m \u001b[0m\u001b[32m       2\u001b[0m\u001b[32m \u001b[0m│\u001b[36m \u001b[0m\u001b[36m12-6-2017_Determination.pdf                  \u001b[0m\u001b[36m \u001b[0m│\u001b[34m \u001b[0m\u001b[34mFalse   \u001b[0m\u001b[34m \u001b[0m│\u001b[38;5;129m \u001b[0m\u001b[38;5;129m189563  \u001b[0m\u001b[38;5;129m \u001b[0m│\u001b[30m \u001b[0m\u001b[30mdeleonv \u001b[0m\u001b[30m \u001b[0m│\n",
       "│\u001b[32m \u001b[0m\u001b[32m       2\u001b[0m\u001b[32m \u001b[0m│\u001b[36m \u001b[0m\u001b[36m12-18-2018_Determination.pdf                 \u001b[0m\u001b[36m \u001b[0m│\u001b[34m \u001b[0m\u001b[34mFalse   \u001b[0m\u001b[34m \u001b[0m│\u001b[38;5;129m \u001b[0m\u001b[38;5;129m153675  \u001b[0m\u001b[38;5;129m \u001b[0m│\u001b[30m \u001b[0m\u001b[30m        \u001b[0m\u001b[30m \u001b[0m│\n",
       "│\u001b[32m \u001b[0m\u001b[32m      30\u001b[0m\u001b[32m \u001b[0m│\u001b[36m \u001b[0m\u001b[36m2016_ACFO_Report_FINAL_REPORT.pdf            \u001b[0m\u001b[36m \u001b[0m│\u001b[34m \u001b[0m\u001b[34mFalse   \u001b[0m\u001b[34m \u001b[0m│\u001b[38;5;129m \u001b[0m\u001b[38;5;129m1108008 \u001b[0m\u001b[38;5;129m \u001b[0m│\u001b[30m \u001b[0m\u001b[30m        \u001b[0m\u001b[30m \u001b[0m│\n",
       "│\u001b[32m \u001b[0m\u001b[32m       2\u001b[0m\u001b[32m \u001b[0m│\u001b[36m \u001b[0m\u001b[36m11-29-2017_Determination.pdf                 \u001b[0m\u001b[36m \u001b[0m│\u001b[34m \u001b[0m\u001b[34mFalse   \u001b[0m\u001b[34m \u001b[0m│\u001b[38;5;129m \u001b[0m\u001b[38;5;129m369290  \u001b[0m\u001b[38;5;129m \u001b[0m│\u001b[30m \u001b[0m\u001b[30m        \u001b[0m\u001b[30m \u001b[0m│\n",
       "│\u001b[32m \u001b[0m\u001b[32m       2\u001b[0m\u001b[32m \u001b[0m│\u001b[36m \u001b[0m\u001b[36mDoD SAP IT DCRIT Determination.pdf           \u001b[0m\u001b[36m \u001b[0m│\u001b[34m \u001b[0m\u001b[34mFalse   \u001b[0m\u001b[34m \u001b[0m│\u001b[38;5;129m \u001b[0m\u001b[38;5;129m127858  \u001b[0m\u001b[38;5;129m \u001b[0m│\u001b[30m \u001b[0m\u001b[30m        \u001b[0m\u001b[30m \u001b[0m│\n",
       "│\u001b[32m \u001b[0m\u001b[32m       3\u001b[0m\u001b[32m \u001b[0m│\u001b[36m \u001b[0m\u001b[36m10-19-2018_Determination.pdf                 \u001b[0m\u001b[36m \u001b[0m│\u001b[34m \u001b[0m\u001b[34mFalse   \u001b[0m\u001b[34m \u001b[0m│\u001b[38;5;129m \u001b[0m\u001b[38;5;129m70088   \u001b[0m\u001b[38;5;129m \u001b[0m│\u001b[30m \u001b[0m\u001b[30mJAMES   \u001b[0m\u001b[30m \u001b[0m│\n",
       "│          │                                               │          │          │\u001b[30m \u001b[0m\u001b[30mHOGAN   \u001b[0m\u001b[30m \u001b[0m│\n",
       "│\u001b[32m \u001b[0m\u001b[32m      30\u001b[0m\u001b[32m \u001b[0m│\u001b[36m \u001b[0m\u001b[36m2015_ACFO_Report_FINAL_REPORT.pdf            \u001b[0m\u001b[36m \u001b[0m│\u001b[34m \u001b[0m\u001b[34mFalse   \u001b[0m\u001b[34m \u001b[0m│\u001b[38;5;129m \u001b[0m\u001b[38;5;129m287445  \u001b[0m\u001b[38;5;129m \u001b[0m│\u001b[30m \u001b[0m\u001b[30mStephan…\u001b[0m\u001b[30m \u001b[0m│\n",
       "│          │                                               │          │          │\u001b[30m \u001b[0m\u001b[30mCarr    \u001b[0m\u001b[30m \u001b[0m│\n",
       "│\u001b[32m \u001b[0m\u001b[32m       3\u001b[0m\u001b[32m \u001b[0m│\u001b[36m \u001b[0m\u001b[36m7-31-2020_Determination.pdf                  \u001b[0m\u001b[36m \u001b[0m│\u001b[34m \u001b[0m\u001b[34mFalse   \u001b[0m\u001b[34m \u001b[0m│\u001b[38;5;129m \u001b[0m\u001b[38;5;129m88447   \u001b[0m\u001b[38;5;129m \u001b[0m│\u001b[30m \u001b[0m\u001b[30mDziecic…\u001b[0m\u001b[30m \u001b[0m│\n",
       "│          │                                               │          │          │\u001b[30m \u001b[0m\u001b[30mGerald J\u001b[0m\u001b[30m \u001b[0m│\n",
       "│          │                                               │          │          │\u001b[30m \u001b[0m\u001b[30mJr CIV  \u001b[0m\u001b[30m \u001b[0m│\n",
       "│          │                                               │          │          │\u001b[30m \u001b[0m\u001b[30mOSD OGC \u001b[0m\u001b[30m \u001b[0m│\n",
       "│          │                                               │          │          │\u001b[30m \u001b[0m\u001b[30m(USA)   \u001b[0m\u001b[30m \u001b[0m│\n",
       "└──────────┴───────────────────────────────────────────────┴──────────┴──────────┴──────────┘\n"
      ]
     },
     "metadata": {},
     "output_type": "display_data"
    },
    {
     "data": {
      "text/html": [
       "<pre style=\"white-space:pre;overflow-x:auto;line-height:normal;font-family:Menlo,'DejaVu Sans Mono',consolas,'Courier New',monospace\"><span style=\"color: #800000; text-decoration-color: #800000; font-weight: bold\">TOTAL PAGECOUNT:</span> <span style=\"color: #800000; text-decoration-color: #800000; font-weight: bold\">311</span>\n",
       "</pre>\n"
      ],
      "text/plain": [
       "\u001b[1;31mTOTAL PAGECOUNT:\u001b[0m \u001b[1;31m311\u001b[0m\n"
      ]
     },
     "metadata": {},
     "output_type": "display_data"
    }
   ],
   "source": [
    "# get stats on the downloaded PDF files\n",
    "display_stats(get_stats(source))"
   ]
  },
  {
   "cell_type": "markdown",
   "metadata": {},
   "source": [
    "## What is pdfsplitter?\n",
    "\n",
    "## Features\n",
    "\n",
    "- statistics generation\n",
    "- image extraction\n",
    "\n",
    "## Install\n",
    "\n",
    "## How to use\n",
    "\n",
    "## Roadmap"
   ]
  },
  {
   "cell_type": "code",
   "execution_count": null,
   "metadata": {},
   "outputs": [],
   "source": []
  }
 ],
 "metadata": {
  "kernelspec": {
   "display_name": "Python 3 (ipykernel)",
   "language": "python",
   "name": "python3"
  }
 },
 "nbformat": 4,
 "nbformat_minor": 2
}
