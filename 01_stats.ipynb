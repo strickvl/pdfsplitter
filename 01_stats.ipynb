{
 "cells": [
  {
   "cell_type": "code",
   "execution_count": null,
   "metadata": {},
   "outputs": [],
   "source": [
    "# default_exp stats"
   ]
  },
  {
   "cell_type": "code",
   "execution_count": null,
   "metadata": {},
   "outputs": [],
   "source": [
    "%load_ext autoreload\n",
    "%autoreload 2"
   ]
  },
  {
   "cell_type": "markdown",
   "metadata": {},
   "source": [
    "# stats\n",
    "\n",
    "> A way to access metadata on all the files due for processing."
   ]
  },
  {
   "cell_type": "code",
   "execution_count": null,
   "metadata": {},
   "outputs": [],
   "source": [
    "#hide\n",
    "from nbdev.showdoc import *"
   ]
  },
  {
   "cell_type": "code",
   "execution_count": null,
   "metadata": {},
   "outputs": [],
   "source": [
    "#export\n",
    "import json\n",
    "import os\n",
    "import datetime\n",
    "from pathlib import Path\n",
    "from typing import Any\n",
    "\n",
    "import pandas as pd\n",
    "import numpy as np\n",
    "import fitz\n",
    "\n",
    "from rich import print\n",
    "from rich.console import Console\n",
    "from rich.table import Table"
   ]
  },
  {
   "cell_type": "code",
   "execution_count": null,
   "metadata": {},
   "outputs": [],
   "source": [
    "%load_ext rich"
   ]
  },
  {
   "cell_type": "code",
   "execution_count": null,
   "metadata": {},
   "outputs": [],
   "source": [
    "#export\n",
    "def get_page_count(filepath: \"os.PathLike[Any]\") -> int:\n",
    "    \"\"\"Gets the page count of a PDF file.\"\"\"\n",
    "    pdf_obj = fitz.open(filepath)\n",
    "    return pdf_obj.page_count"
   ]
  },
  {
   "cell_type": "code",
   "execution_count": null,
   "metadata": {},
   "outputs": [],
   "source": [
    "#export\n",
    "def get_file_metadata(filepath: \"os.PathLike[Any]\") -> dict:\n",
    "    \"\"\"Gets the metadata associated with a PDF file.\"\"\"\n",
    "    pdf_obj = fitz.open(filepath)\n",
    "    return pdf_obj.metadata"
   ]
  },
  {
   "cell_type": "code",
   "execution_count": null,
   "metadata": {},
   "outputs": [],
   "source": [
    "#export\n",
    "def add_comma_separation(input: int) -> str:\n",
    "    \"\"\"Adds comma-separation for thousands to an integer.\"\"\"\n",
    "    return f'{input:,.0f}'"
   ]
  },
  {
   "cell_type": "code",
   "execution_count": null,
   "metadata": {},
   "outputs": [],
   "source": [
    "#export\n",
    "def has_ocr_layer(filepath: \"os.PathLike[Any]\") -> bool:\n",
    "    \"\"\"Checks whether a particular file has an OCR layer.\"\"\"\n",
    "    # TODO: fix this function\n",
    "#     pdf_obj = fitz.open(filepath)\n",
    "#     return len(pdf_obj[0].get_text(\"text\")) == 0\n",
    "    return False"
   ]
  },
  {
   "cell_type": "code",
   "execution_count": null,
   "metadata": {},
   "outputs": [],
   "source": [
    "#export\n",
    "def get_stats(source_path: \"os.PathLike[Any]\") -> list:\n",
    "    \"\"\"Gathers statistics on the PDF data contained in a particular directory.\"\"\"\n",
    "    stats_data = []\n",
    "    \n",
    "    files = list(source_path.glob(\"**/*.pdf\")) # searches source_path and all subfolders\n",
    "    \n",
    "    for file in files:\n",
    "        file_data = {\n",
    "            \"filename\": file.name,\n",
    "            \"pagecount\": get_page_count(file),\n",
    "            \"has_ocr_layer\": has_ocr_layer(file),\n",
    "            \"pdf_file_size_bytes\": os.path.getsize(file),\n",
    "            \"date_created\": datetime.datetime.fromtimestamp(os.path.getctime(file)),\n",
    "            \"date_last_modified\": datetime.datetime.fromtimestamp(os.path.getmtime(file)),\n",
    "            \"author\": get_file_metadata(file)['author'],\n",
    "        }\n",
    "        stats_data.append(file_data)\n",
    "\n",
    "    return stats_data"
   ]
  },
  {
   "cell_type": "code",
   "execution_count": null,
   "metadata": {},
   "outputs": [],
   "source": [
    "#export\n",
    "def convert_timestamp(item_date_object):\n",
    "    \"\"\"Helper function to convert a datetime object to timestamp when\n",
    "    needed for a JSON object.\"\"\"\n",
    "    if isinstance(item_date_object, (datetime.date, datetime.datetime)):\n",
    "        return item_date_object.timestamp()"
   ]
  },
  {
   "cell_type": "code",
   "execution_count": null,
   "metadata": {},
   "outputs": [],
   "source": [
    "#export\n",
    "def get_json_stats(source_path: \"os.PathLike[Any]\") -> str:\n",
    "    \"\"\"Gathers statistics on the PDF data in a directory in JSON format.\"\"\"\n",
    "    return json.dumps(get_stats(source_path), default=convert_timestamp)"
   ]
  },
  {
   "cell_type": "code",
   "execution_count": null,
   "metadata": {},
   "outputs": [],
   "source": [
    "#export\n",
    "def get_dataframe_stats(source_path: \"os.PathLike[Any]\") -> pd.core.frame.DataFrame:\n",
    "    \"\"\"Gathers statistics on the PDF data in a directory as a dataframe.\"\"\"\n",
    "    return pd.DataFrame.from_dict(get_stats(source_path))"
   ]
  },
  {
   "cell_type": "code",
   "execution_count": null,
   "metadata": {},
   "outputs": [],
   "source": [
    "#export\n",
    "def export_stats_as_csv(source_path: \"os.PathLike[Any]\", destination_path: \"os.PathLike[Any]\" = Path(\"./stats.csv\")) -> None:\n",
    "    \"\"\"Exports statistics on the PDF data as a CSV file.\"\"\"\n",
    "    get_dataframe_stats(source_path).to_csv(destination_path)"
   ]
  },
  {
   "cell_type": "markdown",
   "metadata": {},
   "source": [
    "In this next section I manage to get some makeshift drift detection working with `evidently`:"
   ]
  },
  {
   "cell_type": "code",
   "execution_count": null,
   "metadata": {},
   "outputs": [],
   "source": [
    "# WHOLE SECTION COMMENTED OUT\n",
    "\n",
    "# from evidently.dashboard import Dashboard\n",
    "# from evidently.tabs import DataDriftTab\n",
    "# from evidently.pipeline.column_mapping import ColumnMapping\n",
    "\n",
    "# source1 = Path(\"/Users/strickvl/Desktop/NL\")\n",
    "# source2 = Path(\"/Users/strickvl/Desktop/machine-learning-flashcards\")\n",
    "\n",
    "# data_1 = get_dataframe_stats(source1)\n",
    "# data_2 = get_dataframe_stats(source2)\n",
    "\n",
    "# data_types_dict = {\n",
    "#     'filename': str,\n",
    "#     \"pagecount\": np.number,\n",
    "#     'has_ocr_layer': np.number,\n",
    "#     'pdf_file_size_bytes': np.number,\n",
    "#     'author': str,\n",
    "# }\n",
    "\n",
    "# data_1['date_created'] = pd.to_datetime(data_1['date_created'])\n",
    "# data_1['date_last_modified'] = pd.to_datetime(data_1['date_last_modified'])\n",
    "# data_1 = data_1.astype(data_types_dict)\n",
    "\n",
    "# data_2['date_created'] = pd.to_datetime(data_2['date_created'])\n",
    "# data_2['date_last_modified'] = pd.to_datetime(data_2['date_last_modified'])\n",
    "# data_2 = data_2.astype(data_types_dict)\n",
    "\n",
    "# cols_to_drop = ['date_created', 'date_last_modified', \"filename\", \"author\"]\n",
    "# data_1.drop(cols_to_drop, axis=1, inplace=True)\n",
    "# data_2.drop(cols_to_drop, axis=1, inplace=True)\n",
    "\n",
    "# # export_stats_as_csv(source1, Path(\"./tryout/stats1.csv\"))\n",
    "# # export_stats_as_csv(source2, Path(\"./tryout/stats2.csv\"))\n",
    "\n",
    "# # df1 = pd.read_csv(\"./tryout/stats1.csv\")\n",
    "# # df2 = pd.read_csv(\"./tryout/stats1.csv\")\n",
    "\n",
    "# data_drift_report = Dashboard(tabs=[DataDriftTab()])\n",
    "# # these next two lines need fixing\n",
    "# # data_drift_report.calculate(data_1, data_2)\n",
    "# # data_drift_report.show()"
   ]
  },
  {
   "cell_type": "code",
   "execution_count": null,
   "metadata": {},
   "outputs": [],
   "source": [
    "#export\n",
    "def display_stats(stats_list: list) -> None:\n",
    "    \"\"\"Displays statistics on the PDF data contained in a particular directory.\"\"\"\n",
    "    table = Table(title=\"Stats for your PDF Files\")\n",
    "\n",
    "    table.add_column(\"PageCount\", justify=\"right\", style=\"green\")\n",
    "    table.add_column(\"Filename\", justify=\"left\", style=\"cyan\", no_wrap=True, max_width=50)\n",
    "    table.add_column(\"ocr_layer\", justify=\"left\", style=\"blue\")\n",
    "    table.add_column(\"pdf_file_size_bytes\", justify=\"left\", style=\"purple\")\n",
    "    table.add_column(\"author\", justify=\"left\", style=\"black\")\n",
    "    page_count = 0\n",
    "    file_count = 0\n",
    "\n",
    "    for item in stats_list:\n",
    "        page_count += item['pagecount']\n",
    "        file_count += 1\n",
    "        \n",
    "        if file_count <= 45:\n",
    "            table.add_row(\n",
    "                str(item['pagecount']),\n",
    "                item['filename'],\n",
    "                str(item['has_ocr_layer']),\n",
    "                str(item['pdf_file_size_bytes']),\n",
    "                item['author'],\n",
    "            )\n",
    "    if file_count > 45:\n",
    "        table.add_row(\"...\", \"...\", \"...\", \"...\", \"...\")\n",
    "        \n",
    "    console = Console()\n",
    "    console.print(table)\n",
    "    \n",
    "    bold_str_count = f\"[bold red]{add_comma_separation(page_count)}\"\n",
    "    console.print(\"[bold red]TOTAL PAGECOUNT:\", bold_str_count)"
   ]
  },
  {
   "cell_type": "code",
   "execution_count": null,
   "metadata": {},
   "outputs": [
    {
     "data": {
      "text/html": [
       "<pre style=\"white-space:pre;overflow-x:auto;line-height:normal;font-family:Menlo,'DejaVu Sans Mono',consolas,'Courier New',monospace\"><span style=\"font-style: italic\">                                  Stats for your PDF Files                                   </span>\n",
       "┏━━━━━━━━━┳━━━━━━━━━━━━━━━━━━━━━━━━━━━━━━━━━━━━━━━━━━━━━━━━━━━━┳━━━━━━━━━┳━━━━━━━━━┳━━━━━━━━┓\n",
       "┃<span style=\"font-weight: bold\"> PageCo… </span>┃<span style=\"font-weight: bold\"> Filename                                           </span>┃<span style=\"font-weight: bold\"> ocr_la… </span>┃<span style=\"font-weight: bold\"> pdf_fi… </span>┃<span style=\"font-weight: bold\"> author </span>┃\n",
       "┡━━━━━━━━━╇━━━━━━━━━━━━━━━━━━━━━━━━━━━━━━━━━━━━━━━━━━━━━━━━━━━━╇━━━━━━━━━╇━━━━━━━━━╇━━━━━━━━┩\n",
       "│<span style=\"color: #008000; text-decoration-color: #008000\">       1 </span>│<span style=\"color: #008080; text-decoration-color: #008080\"> Residual_Sum_Of_Squares.pdf                        </span>│<span style=\"color: #000080; text-decoration-color: #000080\"> False   </span>│<span style=\"color: #af00ff; text-decoration-color: #af00ff\"> 1045078 </span>│<span style=\"color: #000000; text-decoration-color: #000000\">        </span>│\n",
       "│<span style=\"color: #008000; text-decoration-color: #008000\">       1 </span>│<span style=\"color: #008080; text-decoration-color: #008080\"> Basic_Parts_Of_Deep_Learning.pdf                   </span>│<span style=\"color: #000080; text-decoration-color: #000080\"> False   </span>│<span style=\"color: #af00ff; text-decoration-color: #af00ff\"> 871672  </span>│<span style=\"color: #000000; text-decoration-color: #000000\">        </span>│\n",
       "│<span style=\"color: #008000; text-decoration-color: #008000\">       1 </span>│<span style=\"color: #008080; text-decoration-color: #008080\"> Conditioning.pdf                                   </span>│<span style=\"color: #000080; text-decoration-color: #000080\"> False   </span>│<span style=\"color: #af00ff; text-decoration-color: #af00ff\"> 368812  </span>│<span style=\"color: #000000; text-decoration-color: #000000\">        </span>│\n",
       "│<span style=\"color: #008000; text-decoration-color: #008000\">       1 </span>│<span style=\"color: #008080; text-decoration-color: #008080\"> DBSCAN.pdf                                         </span>│<span style=\"color: #000080; text-decoration-color: #000080\"> False   </span>│<span style=\"color: #af00ff; text-decoration-color: #af00ff\"> 779406  </span>│<span style=\"color: #000000; text-decoration-color: #000000\">        </span>│\n",
       "│<span style=\"color: #008000; text-decoration-color: #008000\">       1 </span>│<span style=\"color: #008080; text-decoration-color: #008080\"> Youdens_J_Statistic.pdf                            </span>│<span style=\"color: #000080; text-decoration-color: #000080\"> False   </span>│<span style=\"color: #af00ff; text-decoration-color: #af00ff\"> 1181340 </span>│<span style=\"color: #000000; text-decoration-color: #000000\">        </span>│\n",
       "│<span style=\"color: #008000; text-decoration-color: #008000\">       1 </span>│<span style=\"color: #008080; text-decoration-color: #008080\"> Handling_Imbalanced_Classes_In_Support_Vector_Mac… </span>│<span style=\"color: #000080; text-decoration-color: #000080\"> False   </span>│<span style=\"color: #af00ff; text-decoration-color: #af00ff\"> 423704  </span>│<span style=\"color: #000000; text-decoration-color: #000000\">        </span>│\n",
       "│<span style=\"color: #008000; text-decoration-color: #008000\">       1 </span>│<span style=\"color: #008080; text-decoration-color: #008080\"> Word2Vec.pdf                                       </span>│<span style=\"color: #000080; text-decoration-color: #000080\"> False   </span>│<span style=\"color: #af00ff; text-decoration-color: #af00ff\"> 518507  </span>│<span style=\"color: #000000; text-decoration-color: #000000\">        </span>│\n",
       "│<span style=\"color: #008000; text-decoration-color: #008000\">       1 </span>│<span style=\"color: #008080; text-decoration-color: #008080\"> Bayes_Theorem.pdf                                  </span>│<span style=\"color: #000080; text-decoration-color: #000080\"> False   </span>│<span style=\"color: #af00ff; text-decoration-color: #af00ff\"> 448065  </span>│<span style=\"color: #000000; text-decoration-color: #000000\">        </span>│\n",
       "│<span style=\"color: #008000; text-decoration-color: #008000\">       1 </span>│<span style=\"color: #008080; text-decoration-color: #008080\"> Uniform_Distribution.pdf                           </span>│<span style=\"color: #000080; text-decoration-color: #000080\"> False   </span>│<span style=\"color: #af00ff; text-decoration-color: #af00ff\"> 574346  </span>│<span style=\"color: #000000; text-decoration-color: #000000\">        </span>│\n",
       "│<span style=\"color: #008000; text-decoration-color: #008000\">       1 </span>│<span style=\"color: #008080; text-decoration-color: #008080\"> Matthews_Correlation_Coefficient.pdf               </span>│<span style=\"color: #000080; text-decoration-color: #000080\"> False   </span>│<span style=\"color: #af00ff; text-decoration-color: #af00ff\"> 501665  </span>│<span style=\"color: #000000; text-decoration-color: #000000\">        </span>│\n",
       "│<span style=\"color: #008000; text-decoration-color: #008000\">       1 </span>│<span style=\"color: #008080; text-decoration-color: #008080\"> Bias-Variance_Tradeoff.pdf                         </span>│<span style=\"color: #000080; text-decoration-color: #000080\"> False   </span>│<span style=\"color: #af00ff; text-decoration-color: #af00ff\"> 1172740 </span>│<span style=\"color: #000000; text-decoration-color: #000000\">        </span>│\n",
       "│<span style=\"color: #008000; text-decoration-color: #008000\">       1 </span>│<span style=\"color: #008080; text-decoration-color: #008080\"> Hidden_Layer.pdf                                   </span>│<span style=\"color: #000080; text-decoration-color: #000080\"> False   </span>│<span style=\"color: #af00ff; text-decoration-color: #af00ff\"> 1335063 </span>│<span style=\"color: #000000; text-decoration-color: #000000\">        </span>│\n",
       "│<span style=\"color: #008000; text-decoration-color: #008000\">       1 </span>│<span style=\"color: #008080; text-decoration-color: #008080\"> K-Nearest_Neighbors_Tips_And_Tricks.pdf            </span>│<span style=\"color: #000080; text-decoration-color: #000080\"> False   </span>│<span style=\"color: #af00ff; text-decoration-color: #af00ff\"> 558009  </span>│<span style=\"color: #000000; text-decoration-color: #000000\">        </span>│\n",
       "│<span style=\"color: #008000; text-decoration-color: #008000\">       1 </span>│<span style=\"color: #008080; text-decoration-color: #008080\"> How_To_Choose_Hidden_Unit_Activation_Functions.pdf </span>│<span style=\"color: #000080; text-decoration-color: #000080\"> False   </span>│<span style=\"color: #af00ff; text-decoration-color: #af00ff\"> 475676  </span>│<span style=\"color: #000000; text-decoration-color: #000000\">        </span>│\n",
       "│<span style=\"color: #008000; text-decoration-color: #008000\">       1 </span>│<span style=\"color: #008080; text-decoration-color: #008080\"> Bayes_Error.pdf                                    </span>│<span style=\"color: #000080; text-decoration-color: #000080\"> False   </span>│<span style=\"color: #af00ff; text-decoration-color: #af00ff\"> 1518133 </span>│<span style=\"color: #000000; text-decoration-color: #000000\">        </span>│\n",
       "│<span style=\"color: #008000; text-decoration-color: #008000\">       1 </span>│<span style=\"color: #008080; text-decoration-color: #008080\"> Softmax_Normalization.pdf                          </span>│<span style=\"color: #000080; text-decoration-color: #000080\"> False   </span>│<span style=\"color: #af00ff; text-decoration-color: #af00ff\"> 1086385 </span>│<span style=\"color: #000000; text-decoration-color: #000000\">        </span>│\n",
       "│<span style=\"color: #008000; text-decoration-color: #008000\">       1 </span>│<span style=\"color: #008080; text-decoration-color: #008080\"> Anscombes_Quartet.pdf                              </span>│<span style=\"color: #000080; text-decoration-color: #000080\"> False   </span>│<span style=\"color: #af00ff; text-decoration-color: #af00ff\"> 1595618 </span>│<span style=\"color: #000000; text-decoration-color: #000000\">        </span>│\n",
       "│<span style=\"color: #008000; text-decoration-color: #008000\">       1 </span>│<span style=\"color: #008080; text-decoration-color: #008080\"> Saddle_Point.pdf                                   </span>│<span style=\"color: #000080; text-decoration-color: #000080\"> False   </span>│<span style=\"color: #af00ff; text-decoration-color: #af00ff\"> 708805  </span>│<span style=\"color: #000000; text-decoration-color: #000000\">        </span>│\n",
       "│<span style=\"color: #008000; text-decoration-color: #008000\">       1 </span>│<span style=\"color: #008080; text-decoration-color: #008080\"> k-Nearest_Neighbors.pdf                            </span>│<span style=\"color: #000080; text-decoration-color: #000080\"> False   </span>│<span style=\"color: #af00ff; text-decoration-color: #af00ff\"> 1245264 </span>│<span style=\"color: #000000; text-decoration-color: #000000\">        </span>│\n",
       "│<span style=\"color: #008000; text-decoration-color: #008000\">       1 </span>│<span style=\"color: #008080; text-decoration-color: #008080\"> Early_Stopping_Advantages.pdf                      </span>│<span style=\"color: #000080; text-decoration-color: #000080\"> False   </span>│<span style=\"color: #af00ff; text-decoration-color: #af00ff\"> 1053443 </span>│<span style=\"color: #000000; text-decoration-color: #000000\">        </span>│\n",
       "│<span style=\"color: #008000; text-decoration-color: #008000\">       1 </span>│<span style=\"color: #008080; text-decoration-color: #008080\"> Fowlkes-Mallows.pdf                                </span>│<span style=\"color: #000080; text-decoration-color: #000080\"> False   </span>│<span style=\"color: #af00ff; text-decoration-color: #af00ff\"> 1622939 </span>│<span style=\"color: #000000; text-decoration-color: #000000\">        </span>│\n",
       "│<span style=\"color: #008000; text-decoration-color: #008000\">       1 </span>│<span style=\"color: #008080; text-decoration-color: #008080\"> Gradient.pdf                                       </span>│<span style=\"color: #000080; text-decoration-color: #000080\"> False   </span>│<span style=\"color: #af00ff; text-decoration-color: #af00ff\"> 1849334 </span>│<span style=\"color: #000000; text-decoration-color: #000000\">        </span>│\n",
       "│<span style=\"color: #008000; text-decoration-color: #008000\">       1 </span>│<span style=\"color: #008080; text-decoration-color: #008080\"> Capacity.pdf                                       </span>│<span style=\"color: #000080; text-decoration-color: #000080\"> False   </span>│<span style=\"color: #af00ff; text-decoration-color: #af00ff\"> 577765  </span>│<span style=\"color: #000000; text-decoration-color: #000000\">        </span>│\n",
       "│<span style=\"color: #008000; text-decoration-color: #008000\">       1 </span>│<span style=\"color: #008080; text-decoration-color: #008080\"> Regularization.pdf                                 </span>│<span style=\"color: #000080; text-decoration-color: #000080\"> False   </span>│<span style=\"color: #af00ff; text-decoration-color: #af00ff\"> 1018306 </span>│<span style=\"color: #000000; text-decoration-color: #000000\">        </span>│\n",
       "│<span style=\"color: #008000; text-decoration-color: #008000\">       1 </span>│<span style=\"color: #008080; text-decoration-color: #008080\"> Supervised_Deep_Learning_Rule_Of_Thumb.pdf         </span>│<span style=\"color: #000080; text-decoration-color: #000080\"> False   </span>│<span style=\"color: #af00ff; text-decoration-color: #af00ff\"> 1299819 </span>│<span style=\"color: #000000; text-decoration-color: #000000\">        </span>│\n",
       "│<span style=\"color: #008000; text-decoration-color: #008000\">       1 </span>│<span style=\"color: #008080; text-decoration-color: #008080\"> Decision_Trees.pdf                                 </span>│<span style=\"color: #000080; text-decoration-color: #000080\"> False   </span>│<span style=\"color: #af00ff; text-decoration-color: #af00ff\"> 1203288 </span>│<span style=\"color: #000000; text-decoration-color: #000000\">        </span>│\n",
       "│<span style=\"color: #008000; text-decoration-color: #008000\">       1 </span>│<span style=\"color: #008080; text-decoration-color: #008080\"> Confusion_Matrix.pdf                               </span>│<span style=\"color: #000080; text-decoration-color: #000080\"> False   </span>│<span style=\"color: #af00ff; text-decoration-color: #af00ff\"> 1442159 </span>│<span style=\"color: #000000; text-decoration-color: #000000\">        </span>│\n",
       "│<span style=\"color: #008000; text-decoration-color: #008000\">       1 </span>│<span style=\"color: #008080; text-decoration-color: #008080\"> Minimum_Of_A_Loss_Function.pdf                     </span>│<span style=\"color: #000080; text-decoration-color: #000080\"> False   </span>│<span style=\"color: #af00ff; text-decoration-color: #af00ff\"> 660131  </span>│<span style=\"color: #000000; text-decoration-color: #000000\">        </span>│\n",
       "│<span style=\"color: #008000; text-decoration-color: #008000\">       1 </span>│<span style=\"color: #008080; text-decoration-color: #008080\"> Variance.pdf                                       </span>│<span style=\"color: #000080; text-decoration-color: #000080\"> False   </span>│<span style=\"color: #af00ff; text-decoration-color: #af00ff\"> 665448  </span>│<span style=\"color: #000000; text-decoration-color: #000000\">        </span>│\n",
       "│<span style=\"color: #008000; text-decoration-color: #008000\">       1 </span>│<span style=\"color: #008080; text-decoration-color: #008080\"> AIC.pdf                                            </span>│<span style=\"color: #000080; text-decoration-color: #000080\"> False   </span>│<span style=\"color: #af00ff; text-decoration-color: #af00ff\"> 900340  </span>│<span style=\"color: #000000; text-decoration-color: #000000\">        </span>│\n",
       "│<span style=\"color: #008000; text-decoration-color: #008000\">       1 </span>│<span style=\"color: #008080; text-decoration-color: #008080\"> Hinge_Loss.pdf                                     </span>│<span style=\"color: #000080; text-decoration-color: #000080\"> False   </span>│<span style=\"color: #af00ff; text-decoration-color: #af00ff\"> 1052360 </span>│<span style=\"color: #000000; text-decoration-color: #000000\">        </span>│\n",
       "│<span style=\"color: #008000; text-decoration-color: #008000\">       1 </span>│<span style=\"color: #008080; text-decoration-color: #008080\"> Stop_Words.pdf                                     </span>│<span style=\"color: #000080; text-decoration-color: #000080\"> False   </span>│<span style=\"color: #af00ff; text-decoration-color: #af00ff\"> 861381  </span>│<span style=\"color: #000000; text-decoration-color: #000000\">        </span>│\n",
       "│<span style=\"color: #008000; text-decoration-color: #008000\">       1 </span>│<span style=\"color: #008080; text-decoration-color: #008080\"> Sensitivity.pdf                                    </span>│<span style=\"color: #000080; text-decoration-color: #000080\"> False   </span>│<span style=\"color: #af00ff; text-decoration-color: #af00ff\"> 957821  </span>│<span style=\"color: #000000; text-decoration-color: #000000\">        </span>│\n",
       "│<span style=\"color: #008000; text-decoration-color: #008000\">       1 </span>│<span style=\"color: #008080; text-decoration-color: #008080\"> No_Free_Lunch_Theorem.pdf                          </span>│<span style=\"color: #000080; text-decoration-color: #000080\"> False   </span>│<span style=\"color: #af00ff; text-decoration-color: #af00ff\"> 1065637 </span>│<span style=\"color: #000000; text-decoration-color: #000000\">        </span>│\n",
       "│<span style=\"color: #008000; text-decoration-color: #008000\">       1 </span>│<span style=\"color: #008080; text-decoration-color: #008080\"> Bias.pdf                                           </span>│<span style=\"color: #000080; text-decoration-color: #000080\"> False   </span>│<span style=\"color: #af00ff; text-decoration-color: #af00ff\"> 615440  </span>│<span style=\"color: #000000; text-decoration-color: #000000\">        </span>│\n",
       "│<span style=\"color: #008000; text-decoration-color: #008000\">       1 </span>│<span style=\"color: #008080; text-decoration-color: #008080\"> Overfit_Vs_Underfit.pdf                            </span>│<span style=\"color: #000080; text-decoration-color: #000080\"> False   </span>│<span style=\"color: #af00ff; text-decoration-color: #af00ff\"> 868425  </span>│<span style=\"color: #000000; text-decoration-color: #000000\">        </span>│\n",
       "│<span style=\"color: #008000; text-decoration-color: #008000\">       1 </span>│<span style=\"color: #008080; text-decoration-color: #008080\"> Probability_Density_Function.pdf                   </span>│<span style=\"color: #000080; text-decoration-color: #000080\"> False   </span>│<span style=\"color: #af00ff; text-decoration-color: #af00ff\"> 1142624 </span>│<span style=\"color: #000000; text-decoration-color: #000000\">        </span>│\n",
       "│<span style=\"color: #008000; text-decoration-color: #008000\">       1 </span>│<span style=\"color: #008080; text-decoration-color: #008080\"> Noisy_ReLU.pdf                                     </span>│<span style=\"color: #000080; text-decoration-color: #000080\"> False   </span>│<span style=\"color: #af00ff; text-decoration-color: #af00ff\"> 648507  </span>│<span style=\"color: #000000; text-decoration-color: #000000\">        </span>│\n",
       "│<span style=\"color: #008000; text-decoration-color: #008000\">       1 </span>│<span style=\"color: #008080; text-decoration-color: #008080\"> Categorical_Feature.pdf                            </span>│<span style=\"color: #000080; text-decoration-color: #000080\"> False   </span>│<span style=\"color: #af00ff; text-decoration-color: #af00ff\"> 1116135 </span>│<span style=\"color: #000000; text-decoration-color: #000000\">        </span>│\n",
       "│<span style=\"color: #008000; text-decoration-color: #008000\">       1 </span>│<span style=\"color: #008080; text-decoration-color: #008080\"> Conditional_Probability.pdf                        </span>│<span style=\"color: #000080; text-decoration-color: #000080\"> False   </span>│<span style=\"color: #af00ff; text-decoration-color: #af00ff\"> 838578  </span>│<span style=\"color: #000000; text-decoration-color: #000000\">        </span>│\n",
       "│<span style=\"color: #008000; text-decoration-color: #008000\">       1 </span>│<span style=\"color: #008080; text-decoration-color: #008080\"> Logistic_Regression_Vs_Linear_Regression.pdf       </span>│<span style=\"color: #000080; text-decoration-color: #000080\"> False   </span>│<span style=\"color: #af00ff; text-decoration-color: #af00ff\"> 467698  </span>│<span style=\"color: #000000; text-decoration-color: #000000\">        </span>│\n",
       "│<span style=\"color: #008000; text-decoration-color: #008000\">       1 </span>│<span style=\"color: #008080; text-decoration-color: #008080\"> Ordinary_Least_Squares.pdf                         </span>│<span style=\"color: #000080; text-decoration-color: #000080\"> False   </span>│<span style=\"color: #af00ff; text-decoration-color: #af00ff\"> 1161237 </span>│<span style=\"color: #000000; text-decoration-color: #000000\">        </span>│\n",
       "│<span style=\"color: #008000; text-decoration-color: #008000\">       1 </span>│<span style=\"color: #008080; text-decoration-color: #008080\"> Cross-Entropy.pdf                                  </span>│<span style=\"color: #000080; text-decoration-color: #000080\"> False   </span>│<span style=\"color: #af00ff; text-decoration-color: #af00ff\"> 1043346 </span>│<span style=\"color: #000000; text-decoration-color: #000000\">        </span>│\n",
       "│<span style=\"color: #008000; text-decoration-color: #008000\">       1 </span>│<span style=\"color: #008080; text-decoration-color: #008080\"> Standard_Error_Of_The_Mean.pdf                     </span>│<span style=\"color: #000080; text-decoration-color: #000080\"> False   </span>│<span style=\"color: #af00ff; text-decoration-color: #af00ff\"> 643085  </span>│<span style=\"color: #000000; text-decoration-color: #000000\">        </span>│\n",
       "│<span style=\"color: #008000; text-decoration-color: #008000\">       1 </span>│<span style=\"color: #008080; text-decoration-color: #008080\"> Hessian_Matrix.pdf                                 </span>│<span style=\"color: #000080; text-decoration-color: #000080\"> False   </span>│<span style=\"color: #af00ff; text-decoration-color: #af00ff\"> 423681  </span>│<span style=\"color: #000000; text-decoration-color: #000000\">        </span>│\n",
       "│<span style=\"color: #008000; text-decoration-color: #008000\">     ... </span>│<span style=\"color: #008080; text-decoration-color: #008080\"> ...                                                </span>│<span style=\"color: #000080; text-decoration-color: #000080\"> ...     </span>│<span style=\"color: #af00ff; text-decoration-color: #af00ff\"> ...     </span>│<span style=\"color: #000000; text-decoration-color: #000000\"> ...    </span>│\n",
       "└─────────┴────────────────────────────────────────────────────┴─────────┴─────────┴────────┘\n",
       "</pre>\n"
      ],
      "text/plain": [
       "\u001b[3m                                  Stats for your PDF Files                                   \u001b[0m\n",
       "┏━━━━━━━━━┳━━━━━━━━━━━━━━━━━━━━━━━━━━━━━━━━━━━━━━━━━━━━━━━━━━━━┳━━━━━━━━━┳━━━━━━━━━┳━━━━━━━━┓\n",
       "┃\u001b[1m \u001b[0m\u001b[1mPageCo…\u001b[0m\u001b[1m \u001b[0m┃\u001b[1m \u001b[0m\u001b[1mFilename                                          \u001b[0m\u001b[1m \u001b[0m┃\u001b[1m \u001b[0m\u001b[1mocr_la…\u001b[0m\u001b[1m \u001b[0m┃\u001b[1m \u001b[0m\u001b[1mpdf_fi…\u001b[0m\u001b[1m \u001b[0m┃\u001b[1m \u001b[0m\u001b[1mauthor\u001b[0m\u001b[1m \u001b[0m┃\n",
       "┡━━━━━━━━━╇━━━━━━━━━━━━━━━━━━━━━━━━━━━━━━━━━━━━━━━━━━━━━━━━━━━━╇━━━━━━━━━╇━━━━━━━━━╇━━━━━━━━┩\n",
       "│\u001b[32m \u001b[0m\u001b[32m      1\u001b[0m\u001b[32m \u001b[0m│\u001b[36m \u001b[0m\u001b[36mResidual_Sum_Of_Squares.pdf                       \u001b[0m\u001b[36m \u001b[0m│\u001b[34m \u001b[0m\u001b[34mFalse  \u001b[0m\u001b[34m \u001b[0m│\u001b[38;5;129m \u001b[0m\u001b[38;5;129m1045078\u001b[0m\u001b[38;5;129m \u001b[0m│\u001b[30m \u001b[0m\u001b[30m      \u001b[0m\u001b[30m \u001b[0m│\n",
       "│\u001b[32m \u001b[0m\u001b[32m      1\u001b[0m\u001b[32m \u001b[0m│\u001b[36m \u001b[0m\u001b[36mBasic_Parts_Of_Deep_Learning.pdf                  \u001b[0m\u001b[36m \u001b[0m│\u001b[34m \u001b[0m\u001b[34mFalse  \u001b[0m\u001b[34m \u001b[0m│\u001b[38;5;129m \u001b[0m\u001b[38;5;129m871672 \u001b[0m\u001b[38;5;129m \u001b[0m│\u001b[30m \u001b[0m\u001b[30m      \u001b[0m\u001b[30m \u001b[0m│\n",
       "│\u001b[32m \u001b[0m\u001b[32m      1\u001b[0m\u001b[32m \u001b[0m│\u001b[36m \u001b[0m\u001b[36mConditioning.pdf                                  \u001b[0m\u001b[36m \u001b[0m│\u001b[34m \u001b[0m\u001b[34mFalse  \u001b[0m\u001b[34m \u001b[0m│\u001b[38;5;129m \u001b[0m\u001b[38;5;129m368812 \u001b[0m\u001b[38;5;129m \u001b[0m│\u001b[30m \u001b[0m\u001b[30m      \u001b[0m\u001b[30m \u001b[0m│\n",
       "│\u001b[32m \u001b[0m\u001b[32m      1\u001b[0m\u001b[32m \u001b[0m│\u001b[36m \u001b[0m\u001b[36mDBSCAN.pdf                                        \u001b[0m\u001b[36m \u001b[0m│\u001b[34m \u001b[0m\u001b[34mFalse  \u001b[0m\u001b[34m \u001b[0m│\u001b[38;5;129m \u001b[0m\u001b[38;5;129m779406 \u001b[0m\u001b[38;5;129m \u001b[0m│\u001b[30m \u001b[0m\u001b[30m      \u001b[0m\u001b[30m \u001b[0m│\n",
       "│\u001b[32m \u001b[0m\u001b[32m      1\u001b[0m\u001b[32m \u001b[0m│\u001b[36m \u001b[0m\u001b[36mYoudens_J_Statistic.pdf                           \u001b[0m\u001b[36m \u001b[0m│\u001b[34m \u001b[0m\u001b[34mFalse  \u001b[0m\u001b[34m \u001b[0m│\u001b[38;5;129m \u001b[0m\u001b[38;5;129m1181340\u001b[0m\u001b[38;5;129m \u001b[0m│\u001b[30m \u001b[0m\u001b[30m      \u001b[0m\u001b[30m \u001b[0m│\n",
       "│\u001b[32m \u001b[0m\u001b[32m      1\u001b[0m\u001b[32m \u001b[0m│\u001b[36m \u001b[0m\u001b[36mHandling_Imbalanced_Classes_In_Support_Vector_Mac…\u001b[0m\u001b[36m \u001b[0m│\u001b[34m \u001b[0m\u001b[34mFalse  \u001b[0m\u001b[34m \u001b[0m│\u001b[38;5;129m \u001b[0m\u001b[38;5;129m423704 \u001b[0m\u001b[38;5;129m \u001b[0m│\u001b[30m \u001b[0m\u001b[30m      \u001b[0m\u001b[30m \u001b[0m│\n",
       "│\u001b[32m \u001b[0m\u001b[32m      1\u001b[0m\u001b[32m \u001b[0m│\u001b[36m \u001b[0m\u001b[36mWord2Vec.pdf                                      \u001b[0m\u001b[36m \u001b[0m│\u001b[34m \u001b[0m\u001b[34mFalse  \u001b[0m\u001b[34m \u001b[0m│\u001b[38;5;129m \u001b[0m\u001b[38;5;129m518507 \u001b[0m\u001b[38;5;129m \u001b[0m│\u001b[30m \u001b[0m\u001b[30m      \u001b[0m\u001b[30m \u001b[0m│\n",
       "│\u001b[32m \u001b[0m\u001b[32m      1\u001b[0m\u001b[32m \u001b[0m│\u001b[36m \u001b[0m\u001b[36mBayes_Theorem.pdf                                 \u001b[0m\u001b[36m \u001b[0m│\u001b[34m \u001b[0m\u001b[34mFalse  \u001b[0m\u001b[34m \u001b[0m│\u001b[38;5;129m \u001b[0m\u001b[38;5;129m448065 \u001b[0m\u001b[38;5;129m \u001b[0m│\u001b[30m \u001b[0m\u001b[30m      \u001b[0m\u001b[30m \u001b[0m│\n",
       "│\u001b[32m \u001b[0m\u001b[32m      1\u001b[0m\u001b[32m \u001b[0m│\u001b[36m \u001b[0m\u001b[36mUniform_Distribution.pdf                          \u001b[0m\u001b[36m \u001b[0m│\u001b[34m \u001b[0m\u001b[34mFalse  \u001b[0m\u001b[34m \u001b[0m│\u001b[38;5;129m \u001b[0m\u001b[38;5;129m574346 \u001b[0m\u001b[38;5;129m \u001b[0m│\u001b[30m \u001b[0m\u001b[30m      \u001b[0m\u001b[30m \u001b[0m│\n",
       "│\u001b[32m \u001b[0m\u001b[32m      1\u001b[0m\u001b[32m \u001b[0m│\u001b[36m \u001b[0m\u001b[36mMatthews_Correlation_Coefficient.pdf              \u001b[0m\u001b[36m \u001b[0m│\u001b[34m \u001b[0m\u001b[34mFalse  \u001b[0m\u001b[34m \u001b[0m│\u001b[38;5;129m \u001b[0m\u001b[38;5;129m501665 \u001b[0m\u001b[38;5;129m \u001b[0m│\u001b[30m \u001b[0m\u001b[30m      \u001b[0m\u001b[30m \u001b[0m│\n",
       "│\u001b[32m \u001b[0m\u001b[32m      1\u001b[0m\u001b[32m \u001b[0m│\u001b[36m \u001b[0m\u001b[36mBias-Variance_Tradeoff.pdf                        \u001b[0m\u001b[36m \u001b[0m│\u001b[34m \u001b[0m\u001b[34mFalse  \u001b[0m\u001b[34m \u001b[0m│\u001b[38;5;129m \u001b[0m\u001b[38;5;129m1172740\u001b[0m\u001b[38;5;129m \u001b[0m│\u001b[30m \u001b[0m\u001b[30m      \u001b[0m\u001b[30m \u001b[0m│\n",
       "│\u001b[32m \u001b[0m\u001b[32m      1\u001b[0m\u001b[32m \u001b[0m│\u001b[36m \u001b[0m\u001b[36mHidden_Layer.pdf                                  \u001b[0m\u001b[36m \u001b[0m│\u001b[34m \u001b[0m\u001b[34mFalse  \u001b[0m\u001b[34m \u001b[0m│\u001b[38;5;129m \u001b[0m\u001b[38;5;129m1335063\u001b[0m\u001b[38;5;129m \u001b[0m│\u001b[30m \u001b[0m\u001b[30m      \u001b[0m\u001b[30m \u001b[0m│\n",
       "│\u001b[32m \u001b[0m\u001b[32m      1\u001b[0m\u001b[32m \u001b[0m│\u001b[36m \u001b[0m\u001b[36mK-Nearest_Neighbors_Tips_And_Tricks.pdf           \u001b[0m\u001b[36m \u001b[0m│\u001b[34m \u001b[0m\u001b[34mFalse  \u001b[0m\u001b[34m \u001b[0m│\u001b[38;5;129m \u001b[0m\u001b[38;5;129m558009 \u001b[0m\u001b[38;5;129m \u001b[0m│\u001b[30m \u001b[0m\u001b[30m      \u001b[0m\u001b[30m \u001b[0m│\n",
       "│\u001b[32m \u001b[0m\u001b[32m      1\u001b[0m\u001b[32m \u001b[0m│\u001b[36m \u001b[0m\u001b[36mHow_To_Choose_Hidden_Unit_Activation_Functions.pdf\u001b[0m\u001b[36m \u001b[0m│\u001b[34m \u001b[0m\u001b[34mFalse  \u001b[0m\u001b[34m \u001b[0m│\u001b[38;5;129m \u001b[0m\u001b[38;5;129m475676 \u001b[0m\u001b[38;5;129m \u001b[0m│\u001b[30m \u001b[0m\u001b[30m      \u001b[0m\u001b[30m \u001b[0m│\n",
       "│\u001b[32m \u001b[0m\u001b[32m      1\u001b[0m\u001b[32m \u001b[0m│\u001b[36m \u001b[0m\u001b[36mBayes_Error.pdf                                   \u001b[0m\u001b[36m \u001b[0m│\u001b[34m \u001b[0m\u001b[34mFalse  \u001b[0m\u001b[34m \u001b[0m│\u001b[38;5;129m \u001b[0m\u001b[38;5;129m1518133\u001b[0m\u001b[38;5;129m \u001b[0m│\u001b[30m \u001b[0m\u001b[30m      \u001b[0m\u001b[30m \u001b[0m│\n",
       "│\u001b[32m \u001b[0m\u001b[32m      1\u001b[0m\u001b[32m \u001b[0m│\u001b[36m \u001b[0m\u001b[36mSoftmax_Normalization.pdf                         \u001b[0m\u001b[36m \u001b[0m│\u001b[34m \u001b[0m\u001b[34mFalse  \u001b[0m\u001b[34m \u001b[0m│\u001b[38;5;129m \u001b[0m\u001b[38;5;129m1086385\u001b[0m\u001b[38;5;129m \u001b[0m│\u001b[30m \u001b[0m\u001b[30m      \u001b[0m\u001b[30m \u001b[0m│\n",
       "│\u001b[32m \u001b[0m\u001b[32m      1\u001b[0m\u001b[32m \u001b[0m│\u001b[36m \u001b[0m\u001b[36mAnscombes_Quartet.pdf                             \u001b[0m\u001b[36m \u001b[0m│\u001b[34m \u001b[0m\u001b[34mFalse  \u001b[0m\u001b[34m \u001b[0m│\u001b[38;5;129m \u001b[0m\u001b[38;5;129m1595618\u001b[0m\u001b[38;5;129m \u001b[0m│\u001b[30m \u001b[0m\u001b[30m      \u001b[0m\u001b[30m \u001b[0m│\n",
       "│\u001b[32m \u001b[0m\u001b[32m      1\u001b[0m\u001b[32m \u001b[0m│\u001b[36m \u001b[0m\u001b[36mSaddle_Point.pdf                                  \u001b[0m\u001b[36m \u001b[0m│\u001b[34m \u001b[0m\u001b[34mFalse  \u001b[0m\u001b[34m \u001b[0m│\u001b[38;5;129m \u001b[0m\u001b[38;5;129m708805 \u001b[0m\u001b[38;5;129m \u001b[0m│\u001b[30m \u001b[0m\u001b[30m      \u001b[0m\u001b[30m \u001b[0m│\n",
       "│\u001b[32m \u001b[0m\u001b[32m      1\u001b[0m\u001b[32m \u001b[0m│\u001b[36m \u001b[0m\u001b[36mk-Nearest_Neighbors.pdf                           \u001b[0m\u001b[36m \u001b[0m│\u001b[34m \u001b[0m\u001b[34mFalse  \u001b[0m\u001b[34m \u001b[0m│\u001b[38;5;129m \u001b[0m\u001b[38;5;129m1245264\u001b[0m\u001b[38;5;129m \u001b[0m│\u001b[30m \u001b[0m\u001b[30m      \u001b[0m\u001b[30m \u001b[0m│\n",
       "│\u001b[32m \u001b[0m\u001b[32m      1\u001b[0m\u001b[32m \u001b[0m│\u001b[36m \u001b[0m\u001b[36mEarly_Stopping_Advantages.pdf                     \u001b[0m\u001b[36m \u001b[0m│\u001b[34m \u001b[0m\u001b[34mFalse  \u001b[0m\u001b[34m \u001b[0m│\u001b[38;5;129m \u001b[0m\u001b[38;5;129m1053443\u001b[0m\u001b[38;5;129m \u001b[0m│\u001b[30m \u001b[0m\u001b[30m      \u001b[0m\u001b[30m \u001b[0m│\n",
       "│\u001b[32m \u001b[0m\u001b[32m      1\u001b[0m\u001b[32m \u001b[0m│\u001b[36m \u001b[0m\u001b[36mFowlkes-Mallows.pdf                               \u001b[0m\u001b[36m \u001b[0m│\u001b[34m \u001b[0m\u001b[34mFalse  \u001b[0m\u001b[34m \u001b[0m│\u001b[38;5;129m \u001b[0m\u001b[38;5;129m1622939\u001b[0m\u001b[38;5;129m \u001b[0m│\u001b[30m \u001b[0m\u001b[30m      \u001b[0m\u001b[30m \u001b[0m│\n",
       "│\u001b[32m \u001b[0m\u001b[32m      1\u001b[0m\u001b[32m \u001b[0m│\u001b[36m \u001b[0m\u001b[36mGradient.pdf                                      \u001b[0m\u001b[36m \u001b[0m│\u001b[34m \u001b[0m\u001b[34mFalse  \u001b[0m\u001b[34m \u001b[0m│\u001b[38;5;129m \u001b[0m\u001b[38;5;129m1849334\u001b[0m\u001b[38;5;129m \u001b[0m│\u001b[30m \u001b[0m\u001b[30m      \u001b[0m\u001b[30m \u001b[0m│\n",
       "│\u001b[32m \u001b[0m\u001b[32m      1\u001b[0m\u001b[32m \u001b[0m│\u001b[36m \u001b[0m\u001b[36mCapacity.pdf                                      \u001b[0m\u001b[36m \u001b[0m│\u001b[34m \u001b[0m\u001b[34mFalse  \u001b[0m\u001b[34m \u001b[0m│\u001b[38;5;129m \u001b[0m\u001b[38;5;129m577765 \u001b[0m\u001b[38;5;129m \u001b[0m│\u001b[30m \u001b[0m\u001b[30m      \u001b[0m\u001b[30m \u001b[0m│\n",
       "│\u001b[32m \u001b[0m\u001b[32m      1\u001b[0m\u001b[32m \u001b[0m│\u001b[36m \u001b[0m\u001b[36mRegularization.pdf                                \u001b[0m\u001b[36m \u001b[0m│\u001b[34m \u001b[0m\u001b[34mFalse  \u001b[0m\u001b[34m \u001b[0m│\u001b[38;5;129m \u001b[0m\u001b[38;5;129m1018306\u001b[0m\u001b[38;5;129m \u001b[0m│\u001b[30m \u001b[0m\u001b[30m      \u001b[0m\u001b[30m \u001b[0m│\n",
       "│\u001b[32m \u001b[0m\u001b[32m      1\u001b[0m\u001b[32m \u001b[0m│\u001b[36m \u001b[0m\u001b[36mSupervised_Deep_Learning_Rule_Of_Thumb.pdf        \u001b[0m\u001b[36m \u001b[0m│\u001b[34m \u001b[0m\u001b[34mFalse  \u001b[0m\u001b[34m \u001b[0m│\u001b[38;5;129m \u001b[0m\u001b[38;5;129m1299819\u001b[0m\u001b[38;5;129m \u001b[0m│\u001b[30m \u001b[0m\u001b[30m      \u001b[0m\u001b[30m \u001b[0m│\n",
       "│\u001b[32m \u001b[0m\u001b[32m      1\u001b[0m\u001b[32m \u001b[0m│\u001b[36m \u001b[0m\u001b[36mDecision_Trees.pdf                                \u001b[0m\u001b[36m \u001b[0m│\u001b[34m \u001b[0m\u001b[34mFalse  \u001b[0m\u001b[34m \u001b[0m│\u001b[38;5;129m \u001b[0m\u001b[38;5;129m1203288\u001b[0m\u001b[38;5;129m \u001b[0m│\u001b[30m \u001b[0m\u001b[30m      \u001b[0m\u001b[30m \u001b[0m│\n",
       "│\u001b[32m \u001b[0m\u001b[32m      1\u001b[0m\u001b[32m \u001b[0m│\u001b[36m \u001b[0m\u001b[36mConfusion_Matrix.pdf                              \u001b[0m\u001b[36m \u001b[0m│\u001b[34m \u001b[0m\u001b[34mFalse  \u001b[0m\u001b[34m \u001b[0m│\u001b[38;5;129m \u001b[0m\u001b[38;5;129m1442159\u001b[0m\u001b[38;5;129m \u001b[0m│\u001b[30m \u001b[0m\u001b[30m      \u001b[0m\u001b[30m \u001b[0m│\n",
       "│\u001b[32m \u001b[0m\u001b[32m      1\u001b[0m\u001b[32m \u001b[0m│\u001b[36m \u001b[0m\u001b[36mMinimum_Of_A_Loss_Function.pdf                    \u001b[0m\u001b[36m \u001b[0m│\u001b[34m \u001b[0m\u001b[34mFalse  \u001b[0m\u001b[34m \u001b[0m│\u001b[38;5;129m \u001b[0m\u001b[38;5;129m660131 \u001b[0m\u001b[38;5;129m \u001b[0m│\u001b[30m \u001b[0m\u001b[30m      \u001b[0m\u001b[30m \u001b[0m│\n",
       "│\u001b[32m \u001b[0m\u001b[32m      1\u001b[0m\u001b[32m \u001b[0m│\u001b[36m \u001b[0m\u001b[36mVariance.pdf                                      \u001b[0m\u001b[36m \u001b[0m│\u001b[34m \u001b[0m\u001b[34mFalse  \u001b[0m\u001b[34m \u001b[0m│\u001b[38;5;129m \u001b[0m\u001b[38;5;129m665448 \u001b[0m\u001b[38;5;129m \u001b[0m│\u001b[30m \u001b[0m\u001b[30m      \u001b[0m\u001b[30m \u001b[0m│\n",
       "│\u001b[32m \u001b[0m\u001b[32m      1\u001b[0m\u001b[32m \u001b[0m│\u001b[36m \u001b[0m\u001b[36mAIC.pdf                                           \u001b[0m\u001b[36m \u001b[0m│\u001b[34m \u001b[0m\u001b[34mFalse  \u001b[0m\u001b[34m \u001b[0m│\u001b[38;5;129m \u001b[0m\u001b[38;5;129m900340 \u001b[0m\u001b[38;5;129m \u001b[0m│\u001b[30m \u001b[0m\u001b[30m      \u001b[0m\u001b[30m \u001b[0m│\n",
       "│\u001b[32m \u001b[0m\u001b[32m      1\u001b[0m\u001b[32m \u001b[0m│\u001b[36m \u001b[0m\u001b[36mHinge_Loss.pdf                                    \u001b[0m\u001b[36m \u001b[0m│\u001b[34m \u001b[0m\u001b[34mFalse  \u001b[0m\u001b[34m \u001b[0m│\u001b[38;5;129m \u001b[0m\u001b[38;5;129m1052360\u001b[0m\u001b[38;5;129m \u001b[0m│\u001b[30m \u001b[0m\u001b[30m      \u001b[0m\u001b[30m \u001b[0m│\n",
       "│\u001b[32m \u001b[0m\u001b[32m      1\u001b[0m\u001b[32m \u001b[0m│\u001b[36m \u001b[0m\u001b[36mStop_Words.pdf                                    \u001b[0m\u001b[36m \u001b[0m│\u001b[34m \u001b[0m\u001b[34mFalse  \u001b[0m\u001b[34m \u001b[0m│\u001b[38;5;129m \u001b[0m\u001b[38;5;129m861381 \u001b[0m\u001b[38;5;129m \u001b[0m│\u001b[30m \u001b[0m\u001b[30m      \u001b[0m\u001b[30m \u001b[0m│\n",
       "│\u001b[32m \u001b[0m\u001b[32m      1\u001b[0m\u001b[32m \u001b[0m│\u001b[36m \u001b[0m\u001b[36mSensitivity.pdf                                   \u001b[0m\u001b[36m \u001b[0m│\u001b[34m \u001b[0m\u001b[34mFalse  \u001b[0m\u001b[34m \u001b[0m│\u001b[38;5;129m \u001b[0m\u001b[38;5;129m957821 \u001b[0m\u001b[38;5;129m \u001b[0m│\u001b[30m \u001b[0m\u001b[30m      \u001b[0m\u001b[30m \u001b[0m│\n",
       "│\u001b[32m \u001b[0m\u001b[32m      1\u001b[0m\u001b[32m \u001b[0m│\u001b[36m \u001b[0m\u001b[36mNo_Free_Lunch_Theorem.pdf                         \u001b[0m\u001b[36m \u001b[0m│\u001b[34m \u001b[0m\u001b[34mFalse  \u001b[0m\u001b[34m \u001b[0m│\u001b[38;5;129m \u001b[0m\u001b[38;5;129m1065637\u001b[0m\u001b[38;5;129m \u001b[0m│\u001b[30m \u001b[0m\u001b[30m      \u001b[0m\u001b[30m \u001b[0m│\n",
       "│\u001b[32m \u001b[0m\u001b[32m      1\u001b[0m\u001b[32m \u001b[0m│\u001b[36m \u001b[0m\u001b[36mBias.pdf                                          \u001b[0m\u001b[36m \u001b[0m│\u001b[34m \u001b[0m\u001b[34mFalse  \u001b[0m\u001b[34m \u001b[0m│\u001b[38;5;129m \u001b[0m\u001b[38;5;129m615440 \u001b[0m\u001b[38;5;129m \u001b[0m│\u001b[30m \u001b[0m\u001b[30m      \u001b[0m\u001b[30m \u001b[0m│\n",
       "│\u001b[32m \u001b[0m\u001b[32m      1\u001b[0m\u001b[32m \u001b[0m│\u001b[36m \u001b[0m\u001b[36mOverfit_Vs_Underfit.pdf                           \u001b[0m\u001b[36m \u001b[0m│\u001b[34m \u001b[0m\u001b[34mFalse  \u001b[0m\u001b[34m \u001b[0m│\u001b[38;5;129m \u001b[0m\u001b[38;5;129m868425 \u001b[0m\u001b[38;5;129m \u001b[0m│\u001b[30m \u001b[0m\u001b[30m      \u001b[0m\u001b[30m \u001b[0m│\n",
       "│\u001b[32m \u001b[0m\u001b[32m      1\u001b[0m\u001b[32m \u001b[0m│\u001b[36m \u001b[0m\u001b[36mProbability_Density_Function.pdf                  \u001b[0m\u001b[36m \u001b[0m│\u001b[34m \u001b[0m\u001b[34mFalse  \u001b[0m\u001b[34m \u001b[0m│\u001b[38;5;129m \u001b[0m\u001b[38;5;129m1142624\u001b[0m\u001b[38;5;129m \u001b[0m│\u001b[30m \u001b[0m\u001b[30m      \u001b[0m\u001b[30m \u001b[0m│\n",
       "│\u001b[32m \u001b[0m\u001b[32m      1\u001b[0m\u001b[32m \u001b[0m│\u001b[36m \u001b[0m\u001b[36mNoisy_ReLU.pdf                                    \u001b[0m\u001b[36m \u001b[0m│\u001b[34m \u001b[0m\u001b[34mFalse  \u001b[0m\u001b[34m \u001b[0m│\u001b[38;5;129m \u001b[0m\u001b[38;5;129m648507 \u001b[0m\u001b[38;5;129m \u001b[0m│\u001b[30m \u001b[0m\u001b[30m      \u001b[0m\u001b[30m \u001b[0m│\n",
       "│\u001b[32m \u001b[0m\u001b[32m      1\u001b[0m\u001b[32m \u001b[0m│\u001b[36m \u001b[0m\u001b[36mCategorical_Feature.pdf                           \u001b[0m\u001b[36m \u001b[0m│\u001b[34m \u001b[0m\u001b[34mFalse  \u001b[0m\u001b[34m \u001b[0m│\u001b[38;5;129m \u001b[0m\u001b[38;5;129m1116135\u001b[0m\u001b[38;5;129m \u001b[0m│\u001b[30m \u001b[0m\u001b[30m      \u001b[0m\u001b[30m \u001b[0m│\n",
       "│\u001b[32m \u001b[0m\u001b[32m      1\u001b[0m\u001b[32m \u001b[0m│\u001b[36m \u001b[0m\u001b[36mConditional_Probability.pdf                       \u001b[0m\u001b[36m \u001b[0m│\u001b[34m \u001b[0m\u001b[34mFalse  \u001b[0m\u001b[34m \u001b[0m│\u001b[38;5;129m \u001b[0m\u001b[38;5;129m838578 \u001b[0m\u001b[38;5;129m \u001b[0m│\u001b[30m \u001b[0m\u001b[30m      \u001b[0m\u001b[30m \u001b[0m│\n",
       "│\u001b[32m \u001b[0m\u001b[32m      1\u001b[0m\u001b[32m \u001b[0m│\u001b[36m \u001b[0m\u001b[36mLogistic_Regression_Vs_Linear_Regression.pdf      \u001b[0m\u001b[36m \u001b[0m│\u001b[34m \u001b[0m\u001b[34mFalse  \u001b[0m\u001b[34m \u001b[0m│\u001b[38;5;129m \u001b[0m\u001b[38;5;129m467698 \u001b[0m\u001b[38;5;129m \u001b[0m│\u001b[30m \u001b[0m\u001b[30m      \u001b[0m\u001b[30m \u001b[0m│\n",
       "│\u001b[32m \u001b[0m\u001b[32m      1\u001b[0m\u001b[32m \u001b[0m│\u001b[36m \u001b[0m\u001b[36mOrdinary_Least_Squares.pdf                        \u001b[0m\u001b[36m \u001b[0m│\u001b[34m \u001b[0m\u001b[34mFalse  \u001b[0m\u001b[34m \u001b[0m│\u001b[38;5;129m \u001b[0m\u001b[38;5;129m1161237\u001b[0m\u001b[38;5;129m \u001b[0m│\u001b[30m \u001b[0m\u001b[30m      \u001b[0m\u001b[30m \u001b[0m│\n",
       "│\u001b[32m \u001b[0m\u001b[32m      1\u001b[0m\u001b[32m \u001b[0m│\u001b[36m \u001b[0m\u001b[36mCross-Entropy.pdf                                 \u001b[0m\u001b[36m \u001b[0m│\u001b[34m \u001b[0m\u001b[34mFalse  \u001b[0m\u001b[34m \u001b[0m│\u001b[38;5;129m \u001b[0m\u001b[38;5;129m1043346\u001b[0m\u001b[38;5;129m \u001b[0m│\u001b[30m \u001b[0m\u001b[30m      \u001b[0m\u001b[30m \u001b[0m│\n",
       "│\u001b[32m \u001b[0m\u001b[32m      1\u001b[0m\u001b[32m \u001b[0m│\u001b[36m \u001b[0m\u001b[36mStandard_Error_Of_The_Mean.pdf                    \u001b[0m\u001b[36m \u001b[0m│\u001b[34m \u001b[0m\u001b[34mFalse  \u001b[0m\u001b[34m \u001b[0m│\u001b[38;5;129m \u001b[0m\u001b[38;5;129m643085 \u001b[0m\u001b[38;5;129m \u001b[0m│\u001b[30m \u001b[0m\u001b[30m      \u001b[0m\u001b[30m \u001b[0m│\n",
       "│\u001b[32m \u001b[0m\u001b[32m      1\u001b[0m\u001b[32m \u001b[0m│\u001b[36m \u001b[0m\u001b[36mHessian_Matrix.pdf                                \u001b[0m\u001b[36m \u001b[0m│\u001b[34m \u001b[0m\u001b[34mFalse  \u001b[0m\u001b[34m \u001b[0m│\u001b[38;5;129m \u001b[0m\u001b[38;5;129m423681 \u001b[0m\u001b[38;5;129m \u001b[0m│\u001b[30m \u001b[0m\u001b[30m      \u001b[0m\u001b[30m \u001b[0m│\n",
       "│\u001b[32m \u001b[0m\u001b[32m    ...\u001b[0m\u001b[32m \u001b[0m│\u001b[36m \u001b[0m\u001b[36m...                                               \u001b[0m\u001b[36m \u001b[0m│\u001b[34m \u001b[0m\u001b[34m...    \u001b[0m\u001b[34m \u001b[0m│\u001b[38;5;129m \u001b[0m\u001b[38;5;129m...    \u001b[0m\u001b[38;5;129m \u001b[0m│\u001b[30m \u001b[0m\u001b[30m...   \u001b[0m\u001b[30m \u001b[0m│\n",
       "└─────────┴────────────────────────────────────────────────────┴─────────┴─────────┴────────┘\n"
      ]
     },
     "metadata": {},
     "output_type": "display_data"
    },
    {
     "data": {
      "text/html": [
       "<pre style=\"white-space:pre;overflow-x:auto;line-height:normal;font-family:Menlo,'DejaVu Sans Mono',consolas,'Courier New',monospace\"><span style=\"color: #800000; text-decoration-color: #800000; font-weight: bold\">TOTAL PAGECOUNT:</span> <span style=\"color: #800000; text-decoration-color: #800000; font-weight: bold\">900</span>\n",
       "</pre>\n"
      ],
      "text/plain": [
       "\u001b[1;31mTOTAL PAGECOUNT:\u001b[0m \u001b[1;31m900\u001b[0m\n"
      ]
     },
     "metadata": {},
     "output_type": "display_data"
    }
   ],
   "source": [
    "source = Path(\"/Users/strickvl/Desktop/machine-learning-flashcards\")\n",
    "\n",
    "display_stats(get_stats(source))"
   ]
  },
  {
   "cell_type": "code",
   "execution_count": null,
   "metadata": {},
   "outputs": [],
   "source": []
  }
 ],
 "metadata": {
  "kernelspec": {
   "display_name": "Python 3 (ipykernel)",
   "language": "python",
   "name": "python3"
  }
 },
 "nbformat": 4,
 "nbformat_minor": 2
}
