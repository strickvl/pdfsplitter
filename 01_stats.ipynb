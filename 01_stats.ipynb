{
 "cells": [
  {
   "cell_type": "code",
   "execution_count": null,
   "metadata": {},
   "outputs": [],
   "source": [
    "# default_exp stats"
   ]
  },
  {
   "cell_type": "code",
   "execution_count": null,
   "metadata": {},
   "outputs": [],
   "source": [
    "%load_ext autoreload\n",
    "%autoreload 2"
   ]
  },
  {
   "cell_type": "markdown",
   "metadata": {},
   "source": [
    "# stats\n",
    "\n",
    "> A way to access metadata on all the files due for processing."
   ]
  },
  {
   "cell_type": "code",
   "execution_count": null,
   "metadata": {},
   "outputs": [],
   "source": [
    "#hide\n",
    "from nbdev.showdoc import *"
   ]
  },
  {
   "cell_type": "code",
   "execution_count": null,
   "metadata": {},
   "outputs": [],
   "source": [
    "#export\n",
    "import os\n",
    "from pathlib import Path\n",
    "from typing import Any\n",
    "\n",
    "import fitz\n",
    "import pathlib"
   ]
  },
  {
   "cell_type": "code",
   "execution_count": null,
   "metadata": {},
   "outputs": [],
   "source": [
    "#export\n",
    "def pdf_to_img(pdf_path: \"os.PathLike[Any]\", destination_path: \"os.PathLike[Any]\", img_type: str, export_quality_factor=2.0) -> None:\n",
    "    \"\"\"Converts a PDF file into a series of image files.\n",
    "    \n",
    "    Each image file is labelled with its page number\"\"\"\n",
    "    destination_path.mkdir(parents=True, exist_ok=True) # create the destination directory if it doesn't already exist\n",
    "    pdf_obj = fitz.open(pdf_path)\n",
    "    mat = fitz.Matrix(export_quality_factor, export_quality_factor)\n",
    "    for page_number in range(len(pdf_obj)):\n",
    "        page = pdf_obj.load_page(page_number)\n",
    "        pix = page.get_pixmap(matrix=mat)  # use 'mat' instead of the identity matrix\n",
    "        pix.save(f\"{str(destination_path)}/{pdf_path.name[:-4]}-{page_number + 1}.{img_type}\")"
   ]
  },
  {
   "cell_type": "code",
   "execution_count": null,
   "metadata": {},
   "outputs": [],
   "source": [
    "#export\n",
    "def extract_images_from_pdfs(source_folder: \"os.PathLike[Any]\", destination_folder: \"os.PathLike[Any]\", img_type: str, export_quality_factor=2.0):\n",
    "    \"\"\"Converts all PDF files inside a particular source folder into individual image files.\n",
    "    \n",
    "    Each PDF file exports a single image for each page. \n",
    "    You can specify the type of image you want. See \n",
    "    https://pymupdf.readthedocs.io/en/latest/faq.html#how-to-convert-images for\n",
    "    a full list of support export options.\"\"\"\n",
    "    files = list(source_folder.glob(\"**/*.pdf\")) # searches source_folder and all subfolders\n",
    "    for file in files:\n",
    "        pdf_to_img(file, destination_folder, \"png\")"
   ]
  },
  {
   "cell_type": "code",
   "execution_count": null,
   "metadata": {},
   "outputs": [],
   "source": [
    "def get_page_count(filepath: \"os.PathLike[Any]\") -> int:\n",
    "    \"\"\"Gets the page count of a PDF file.\"\"\"\n",
    "    pdf_obj = fitz.open(filepath)\n",
    "    return pdf_obj.page_count"
   ]
  },
  {
   "cell_type": "code",
   "execution_count": null,
   "metadata": {},
   "outputs": [],
   "source": [
    "def get_stats(source_path: \"os.PathLike[Any]\") -> int:\n",
    "    \"\"\"Displays statistics on the PDF data contained in a particular repository.\"\"\"\n",
    "    count = 0\n",
    "    files = list(source_path.glob(\"**/*.pdf\")) # searches source_path and all subfolders\n",
    "    for file in files:\n",
    "        count += get_page_count(file)\n",
    "    return count"
   ]
  },
  {
   "cell_type": "code",
   "execution_count": null,
   "metadata": {},
   "outputs": [
    {
     "data": {
      "text/plain": [
       "11"
      ]
     },
     "execution_count": null,
     "metadata": {},
     "output_type": "execute_result"
    }
   ],
   "source": [
    "source = Path(\"./tryout/\")\n",
    "\n",
    "get_stats(source)"
   ]
  },
  {
   "cell_type": "code",
   "execution_count": null,
   "metadata": {},
   "outputs": [],
   "source": []
  }
 ],
 "metadata": {
  "kernelspec": {
   "display_name": "Python 3 (ipykernel)",
   "language": "python",
   "name": "python3"
  }
 },
 "nbformat": 4,
 "nbformat_minor": 2
}
