{
 "cells": [
  {
   "cell_type": "code",
   "execution_count": null,
   "metadata": {},
   "outputs": [],
   "source": [
    "# default_exp stats"
   ]
  },
  {
   "cell_type": "code",
   "execution_count": null,
   "metadata": {},
   "outputs": [
    {
     "name": "stdout",
     "output_type": "stream",
     "text": [
      "The autoreload extension is already loaded. To reload it, use:\n",
      "  %reload_ext autoreload\n"
     ]
    }
   ],
   "source": [
    "%load_ext autoreload\n",
    "%autoreload 2"
   ]
  },
  {
   "cell_type": "markdown",
   "metadata": {},
   "source": [
    "# stats\n",
    "\n",
    "> A way to access metadata on all the files due for processing."
   ]
  },
  {
   "cell_type": "code",
   "execution_count": null,
   "metadata": {},
   "outputs": [],
   "source": [
    "#hide\n",
    "from nbdev.showdoc import *"
   ]
  },
  {
   "cell_type": "code",
   "execution_count": null,
   "metadata": {},
   "outputs": [],
   "source": [
    "#export\n",
    "import os\n",
    "from pathlib import Path\n",
    "from typing import Any\n",
    "import fitz\n",
    "\n",
    "from rich import print\n",
    "from rich.console import Console\n",
    "from rich.table import Table"
   ]
  },
  {
   "cell_type": "code",
   "execution_count": null,
   "metadata": {},
   "outputs": [
    {
     "name": "stdout",
     "output_type": "stream",
     "text": [
      "The rich extension is already loaded. To reload it, use:\n",
      "  %reload_ext rich\n"
     ]
    }
   ],
   "source": [
    "%load_ext rich"
   ]
  },
  {
   "cell_type": "code",
   "execution_count": null,
   "metadata": {},
   "outputs": [],
   "source": [
    "#export\n",
    "def get_page_count(filepath: \"os.PathLike[Any]\") -> int:\n",
    "    \"\"\"Gets the page count of a PDF file.\"\"\"\n",
    "    pdf_obj = fitz.open(filepath)\n",
    "    return pdf_obj.page_count"
   ]
  },
  {
   "cell_type": "code",
   "execution_count": null,
   "metadata": {},
   "outputs": [],
   "source": [
    "#export\n",
    "def add_comma_separation(input: int) -> str:\n",
    "    \"\"\"Adds comma-separation for thousands to an integer.\"\"\"\n",
    "    return f'{input:,.0f}'"
   ]
  },
  {
   "cell_type": "code",
   "execution_count": null,
   "metadata": {},
   "outputs": [],
   "source": [
    "#export\n",
    "def get_stats(source_path: \"os.PathLike[Any]\") -> int:\n",
    "    \"\"\"Displays statistics on the PDF data contained in a particular repository.\"\"\"\n",
    "    table = Table(title=\"Stats for your PDF Files\")\n",
    "\n",
    "    table.add_column(\"PageCount\", justify=\"right\", style=\"green\")\n",
    "    table.add_column(\"Filename\", justify=\"left\", style=\"cyan\", no_wrap=True, max_width=50)\n",
    "\n",
    "\n",
    "    count = 0\n",
    "    file_number = 0\n",
    "    files = list(source_path.glob(\"**/*.pdf\")) # searches source_path and all subfolders\n",
    "    for file in files:\n",
    "        file_number += 1\n",
    "        current_file_count = get_page_count(file)\n",
    "        count += current_file_count\n",
    "        if file_number <= 45:\n",
    "            table.add_row(str(current_file_count), file.name)\n",
    "\n",
    "    if file_number > 45:\n",
    "        table.add_row(\"...\", \"...\")\n",
    "        \n",
    "    console = Console()\n",
    "    console.print(table)\n",
    "    \n",
    "    bold_str_count = f\"[bold red]{add_comma_separation(count)}\"\n",
    "    console.print(\"[bold red]TOTAL PAGECOUNT:\", bold_str_count)"
   ]
  },
  {
   "cell_type": "code",
   "execution_count": null,
   "metadata": {},
   "outputs": [
    {
     "data": {
      "text/html": [
       "<pre style=\"white-space:pre;overflow-x:auto;line-height:normal;font-family:Menlo,'DejaVu Sans Mono',consolas,'Courier New',monospace\"><span style=\"font-style: italic\">                     Stats for your PDF Files                     </span>\n",
       "┏━━━━━━━━━━━┳━━━━━━━━━━━━━━━━━━━━━━━━━━━━━━━━━━━━━━━━━━━━━━━━━━━━┓\n",
       "┃<span style=\"font-weight: bold\"> PageCount </span>┃<span style=\"font-weight: bold\"> Filename                                           </span>┃\n",
       "┡━━━━━━━━━━━╇━━━━━━━━━━━━━━━━━━━━━━━━━━━━━━━━━━━━━━━━━━━━━━━━━━━━┩\n",
       "│<span style=\"color: #008000; text-decoration-color: #008000\">         1 </span>│<span style=\"color: #008080; text-decoration-color: #008080\"> Dutch Friends of importance to me.pdf              </span>│\n",
       "│<span style=\"color: #008000; text-decoration-color: #008000\">        18 </span>│<span style=\"color: #008080; text-decoration-color: #008080\"> 2021-10-21-mama-financial-overview-van-lanschot.p… </span>│\n",
       "│<span style=\"color: #008000; text-decoration-color: #008000\">         2 </span>│<span style=\"color: #008080; text-decoration-color: #008080\"> Tax Call Mazars_25Oct2021.pdf                      </span>│\n",
       "│<span style=\"color: #008000; text-decoration-color: #008000\">        18 </span>│<span style=\"color: #008080; text-decoration-color: #008080\"> 2021-10-21-mama-financial-overview-van-lanschot-C… </span>│\n",
       "│<span style=\"color: #008000; text-decoration-color: #008000\">         1 </span>│<span style=\"color: #008080; text-decoration-color: #008080\"> medical exemption westeinde.pdf                    </span>│\n",
       "│<span style=\"color: #008000; text-decoration-color: #008000\">         1 </span>│<span style=\"color: #008080; text-decoration-color: #008080\"> saba-invitation-letter.pdf                         </span>│\n",
       "│<span style=\"color: #008000; text-decoration-color: #008000\">         2 </span>│<span style=\"color: #008080; text-decoration-color: #008080\"> 2021-10-21-mama-executor-instructions.pdf          </span>│\n",
       "│<span style=\"color: #008000; text-decoration-color: #008000\">         6 </span>│<span style=\"color: #008080; text-decoration-color: #008080\"> notaris-conversation.pdf                           </span>│\n",
       "│<span style=\"color: #008000; text-decoration-color: #008000\">         2 </span>│<span style=\"color: #008080; text-decoration-color: #008080\"> FINAL Family Emergency Contact List-20_05_20.pdf   </span>│\n",
       "│<span style=\"color: #008000; text-decoration-color: #008000\">         1 </span>│<span style=\"color: #008080; text-decoration-color: #008080\"> bieslandhof-palliative.pdf                         </span>│\n",
       "│<span style=\"color: #008000; text-decoration-color: #008000\">        13 </span>│<span style=\"color: #008080; text-decoration-color: #008080\"> 2021-10-21-mama-tax-return-2020.pdf                </span>│\n",
       "│<span style=\"color: #008000; text-decoration-color: #008000\">         1 </span>│<span style=\"color: #008080; text-decoration-color: #008080\"> 20210817132930.pdf                                 </span>│\n",
       "│<span style=\"color: #008000; text-decoration-color: #008000\">        13 </span>│<span style=\"color: #008080; text-decoration-color: #008080\"> 2021-10-21-mama-tax-return-2020-COMPRESSED.pdf     </span>│\n",
       "│<span style=\"color: #008000; text-decoration-color: #008000\">         3 </span>│<span style=\"color: #008080; text-decoration-color: #008080\"> WILSVERKLARING + FINAL-SIGNED-AS.pdf               </span>│\n",
       "│<span style=\"color: #008000; text-decoration-color: #008000\">         3 </span>│<span style=\"color: #008080; text-decoration-color: #008080\"> 193158 certified final translation.pdf             </span>│\n",
       "│<span style=\"color: #008000; text-decoration-color: #008000\">         1 </span>│<span style=\"color: #008080; text-decoration-color: #008080\"> 12-11 Phase 2.pdf                                  </span>│\n",
       "│<span style=\"color: #008000; text-decoration-color: #008000\">         1 </span>│<span style=\"color: #008080; text-decoration-color: #008080\"> 12-11 Phase 3.pdf                                  </span>│\n",
       "│<span style=\"color: #008000; text-decoration-color: #008000\">         1 </span>│<span style=\"color: #008080; text-decoration-color: #008080\"> 12-11 Phase 1.pdf                                  </span>│\n",
       "│<span style=\"color: #008000; text-decoration-color: #008000\">         1 </span>│<span style=\"color: #008080; text-decoration-color: #008080\"> 12-11 Offer introduction.pdf                       </span>│\n",
       "│<span style=\"color: #008000; text-decoration-color: #008000\">         1 </span>│<span style=\"color: #008080; text-decoration-color: #008080\"> Hour indication.pdf                                </span>│\n",
       "│<span style=\"color: #008000; text-decoration-color: #008000\">         1 </span>│<span style=\"color: #008080; text-decoration-color: #008080\"> 12-11 Phase 4.pdf                                  </span>│\n",
       "│<span style=\"color: #008000; text-decoration-color: #008000\">         1 </span>│<span style=\"color: #008080; text-decoration-color: #008080\"> Order Confirmation Phase 1.pdf                     </span>│\n",
       "│<span style=\"color: #008000; text-decoration-color: #008000\">         3 </span>│<span style=\"color: #008080; text-decoration-color: #008080\"> Privacy statement ENG 4-2-2021 DEF.pdf             </span>│\n",
       "│<span style=\"color: #008000; text-decoration-color: #008000\">         1 </span>│<span style=\"color: #008080; text-decoration-color: #008080\"> Financial offer.pdf                                </span>│\n",
       "│<span style=\"color: #008000; text-decoration-color: #008000\">         4 </span>│<span style=\"color: #008080; text-decoration-color: #008080\"> Terms and conditions Jeltje ENG 4-2-2021 DEF.pdf   </span>│\n",
       "│<span style=\"color: #008000; text-decoration-color: #008000\">         1 </span>│<span style=\"color: #008080; text-decoration-color: #008080\"> Project description Phase 3.pdf                    </span>│\n",
       "│<span style=\"color: #008000; text-decoration-color: #008000\">       340 </span>│<span style=\"color: #008080; text-decoration-color: #008080\"> NN-werkboek-2015-herzien-omslag-lowres.pdf         </span>│\n",
       "│<span style=\"color: #008000; text-decoration-color: #008000\">        28 </span>│<span style=\"color: #008080; text-decoration-color: #008080\"> ENGELS_Handleiding Naar Nederland.pdf              </span>│\n",
       "│<span style=\"color: #008000; text-decoration-color: #008000\">       112 </span>│<span style=\"color: #008080; text-decoration-color: #008080\"> NN-fotoboek-2014-herzien-omslag-lowres.pdf         </span>│\n",
       "└───────────┴────────────────────────────────────────────────────┘\n",
       "</pre>\n"
      ],
      "text/plain": [
       "\u001b[3m                     Stats for your PDF Files                     \u001b[0m\n",
       "┏━━━━━━━━━━━┳━━━━━━━━━━━━━━━━━━━━━━━━━━━━━━━━━━━━━━━━━━━━━━━━━━━━┓\n",
       "┃\u001b[1m \u001b[0m\u001b[1mPageCount\u001b[0m\u001b[1m \u001b[0m┃\u001b[1m \u001b[0m\u001b[1mFilename                                          \u001b[0m\u001b[1m \u001b[0m┃\n",
       "┡━━━━━━━━━━━╇━━━━━━━━━━━━━━━━━━━━━━━━━━━━━━━━━━━━━━━━━━━━━━━━━━━━┩\n",
       "│\u001b[32m \u001b[0m\u001b[32m        1\u001b[0m\u001b[32m \u001b[0m│\u001b[36m \u001b[0m\u001b[36mDutch Friends of importance to me.pdf             \u001b[0m\u001b[36m \u001b[0m│\n",
       "│\u001b[32m \u001b[0m\u001b[32m       18\u001b[0m\u001b[32m \u001b[0m│\u001b[36m \u001b[0m\u001b[36m2021-10-21-mama-financial-overview-van-lanschot.p…\u001b[0m\u001b[36m \u001b[0m│\n",
       "│\u001b[32m \u001b[0m\u001b[32m        2\u001b[0m\u001b[32m \u001b[0m│\u001b[36m \u001b[0m\u001b[36mTax Call Mazars_25Oct2021.pdf                     \u001b[0m\u001b[36m \u001b[0m│\n",
       "│\u001b[32m \u001b[0m\u001b[32m       18\u001b[0m\u001b[32m \u001b[0m│\u001b[36m \u001b[0m\u001b[36m2021-10-21-mama-financial-overview-van-lanschot-C…\u001b[0m\u001b[36m \u001b[0m│\n",
       "│\u001b[32m \u001b[0m\u001b[32m        1\u001b[0m\u001b[32m \u001b[0m│\u001b[36m \u001b[0m\u001b[36mmedical exemption westeinde.pdf                   \u001b[0m\u001b[36m \u001b[0m│\n",
       "│\u001b[32m \u001b[0m\u001b[32m        1\u001b[0m\u001b[32m \u001b[0m│\u001b[36m \u001b[0m\u001b[36msaba-invitation-letter.pdf                        \u001b[0m\u001b[36m \u001b[0m│\n",
       "│\u001b[32m \u001b[0m\u001b[32m        2\u001b[0m\u001b[32m \u001b[0m│\u001b[36m \u001b[0m\u001b[36m2021-10-21-mama-executor-instructions.pdf         \u001b[0m\u001b[36m \u001b[0m│\n",
       "│\u001b[32m \u001b[0m\u001b[32m        6\u001b[0m\u001b[32m \u001b[0m│\u001b[36m \u001b[0m\u001b[36mnotaris-conversation.pdf                          \u001b[0m\u001b[36m \u001b[0m│\n",
       "│\u001b[32m \u001b[0m\u001b[32m        2\u001b[0m\u001b[32m \u001b[0m│\u001b[36m \u001b[0m\u001b[36mFINAL Family Emergency Contact List-20_05_20.pdf  \u001b[0m\u001b[36m \u001b[0m│\n",
       "│\u001b[32m \u001b[0m\u001b[32m        1\u001b[0m\u001b[32m \u001b[0m│\u001b[36m \u001b[0m\u001b[36mbieslandhof-palliative.pdf                        \u001b[0m\u001b[36m \u001b[0m│\n",
       "│\u001b[32m \u001b[0m\u001b[32m       13\u001b[0m\u001b[32m \u001b[0m│\u001b[36m \u001b[0m\u001b[36m2021-10-21-mama-tax-return-2020.pdf               \u001b[0m\u001b[36m \u001b[0m│\n",
       "│\u001b[32m \u001b[0m\u001b[32m        1\u001b[0m\u001b[32m \u001b[0m│\u001b[36m \u001b[0m\u001b[36m20210817132930.pdf                                \u001b[0m\u001b[36m \u001b[0m│\n",
       "│\u001b[32m \u001b[0m\u001b[32m       13\u001b[0m\u001b[32m \u001b[0m│\u001b[36m \u001b[0m\u001b[36m2021-10-21-mama-tax-return-2020-COMPRESSED.pdf    \u001b[0m\u001b[36m \u001b[0m│\n",
       "│\u001b[32m \u001b[0m\u001b[32m        3\u001b[0m\u001b[32m \u001b[0m│\u001b[36m \u001b[0m\u001b[36mWILSVERKLARING + FINAL-SIGNED-AS.pdf              \u001b[0m\u001b[36m \u001b[0m│\n",
       "│\u001b[32m \u001b[0m\u001b[32m        3\u001b[0m\u001b[32m \u001b[0m│\u001b[36m \u001b[0m\u001b[36m193158 certified final translation.pdf            \u001b[0m\u001b[36m \u001b[0m│\n",
       "│\u001b[32m \u001b[0m\u001b[32m        1\u001b[0m\u001b[32m \u001b[0m│\u001b[36m \u001b[0m\u001b[36m12-11 Phase 2.pdf                                 \u001b[0m\u001b[36m \u001b[0m│\n",
       "│\u001b[32m \u001b[0m\u001b[32m        1\u001b[0m\u001b[32m \u001b[0m│\u001b[36m \u001b[0m\u001b[36m12-11 Phase 3.pdf                                 \u001b[0m\u001b[36m \u001b[0m│\n",
       "│\u001b[32m \u001b[0m\u001b[32m        1\u001b[0m\u001b[32m \u001b[0m│\u001b[36m \u001b[0m\u001b[36m12-11 Phase 1.pdf                                 \u001b[0m\u001b[36m \u001b[0m│\n",
       "│\u001b[32m \u001b[0m\u001b[32m        1\u001b[0m\u001b[32m \u001b[0m│\u001b[36m \u001b[0m\u001b[36m12-11 Offer introduction.pdf                      \u001b[0m\u001b[36m \u001b[0m│\n",
       "│\u001b[32m \u001b[0m\u001b[32m        1\u001b[0m\u001b[32m \u001b[0m│\u001b[36m \u001b[0m\u001b[36mHour indication.pdf                               \u001b[0m\u001b[36m \u001b[0m│\n",
       "│\u001b[32m \u001b[0m\u001b[32m        1\u001b[0m\u001b[32m \u001b[0m│\u001b[36m \u001b[0m\u001b[36m12-11 Phase 4.pdf                                 \u001b[0m\u001b[36m \u001b[0m│\n",
       "│\u001b[32m \u001b[0m\u001b[32m        1\u001b[0m\u001b[32m \u001b[0m│\u001b[36m \u001b[0m\u001b[36mOrder Confirmation Phase 1.pdf                    \u001b[0m\u001b[36m \u001b[0m│\n",
       "│\u001b[32m \u001b[0m\u001b[32m        3\u001b[0m\u001b[32m \u001b[0m│\u001b[36m \u001b[0m\u001b[36mPrivacy statement ENG 4-2-2021 DEF.pdf            \u001b[0m\u001b[36m \u001b[0m│\n",
       "│\u001b[32m \u001b[0m\u001b[32m        1\u001b[0m\u001b[32m \u001b[0m│\u001b[36m \u001b[0m\u001b[36mFinancial offer.pdf                               \u001b[0m\u001b[36m \u001b[0m│\n",
       "│\u001b[32m \u001b[0m\u001b[32m        4\u001b[0m\u001b[32m \u001b[0m│\u001b[36m \u001b[0m\u001b[36mTerms and conditions Jeltje ENG 4-2-2021 DEF.pdf  \u001b[0m\u001b[36m \u001b[0m│\n",
       "│\u001b[32m \u001b[0m\u001b[32m        1\u001b[0m\u001b[32m \u001b[0m│\u001b[36m \u001b[0m\u001b[36mProject description Phase 3.pdf                   \u001b[0m\u001b[36m \u001b[0m│\n",
       "│\u001b[32m \u001b[0m\u001b[32m      340\u001b[0m\u001b[32m \u001b[0m│\u001b[36m \u001b[0m\u001b[36mNN-werkboek-2015-herzien-omslag-lowres.pdf        \u001b[0m\u001b[36m \u001b[0m│\n",
       "│\u001b[32m \u001b[0m\u001b[32m       28\u001b[0m\u001b[32m \u001b[0m│\u001b[36m \u001b[0m\u001b[36mENGELS_Handleiding Naar Nederland.pdf             \u001b[0m\u001b[36m \u001b[0m│\n",
       "│\u001b[32m \u001b[0m\u001b[32m      112\u001b[0m\u001b[32m \u001b[0m│\u001b[36m \u001b[0m\u001b[36mNN-fotoboek-2014-herzien-omslag-lowres.pdf        \u001b[0m\u001b[36m \u001b[0m│\n",
       "└───────────┴────────────────────────────────────────────────────┘\n"
      ]
     },
     "metadata": {},
     "output_type": "display_data"
    },
    {
     "data": {
      "text/html": [
       "<pre style=\"white-space:pre;overflow-x:auto;line-height:normal;font-family:Menlo,'DejaVu Sans Mono',consolas,'Courier New',monospace\"><span style=\"color: #800000; text-decoration-color: #800000; font-weight: bold\">TOTAL PAGECOUNT:</span> <span style=\"color: #800000; text-decoration-color: #800000; font-weight: bold\">581</span>\n",
       "</pre>\n"
      ],
      "text/plain": [
       "\u001b[1;31mTOTAL PAGECOUNT:\u001b[0m \u001b[1;31m581\u001b[0m\n"
      ]
     },
     "metadata": {},
     "output_type": "display_data"
    }
   ],
   "source": [
    "source = Path(\"/Users/strickvl/Desktop/NL\")\n",
    "\n",
    "get_stats(source)"
   ]
  },
  {
   "cell_type": "code",
   "execution_count": null,
   "metadata": {},
   "outputs": [],
   "source": []
  }
 ],
 "metadata": {
  "kernelspec": {
   "display_name": "Python 3 (ipykernel)",
   "language": "python",
   "name": "python3"
  }
 },
 "nbformat": 4,
 "nbformat_minor": 2
}
